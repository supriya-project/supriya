{
 "cells": [
  {
   "cell_type": "code",
   "execution_count": 1,
   "id": "1eb0ec03-3005-401d-8201-ad2d8f9481a7",
   "metadata": {
    "editable": true,
    "slideshow": {
     "slide_type": "skip"
    },
    "tags": []
   },
   "outputs": [
    {
     "name": "stdout",
     "output_type": "stream",
     "text": [
      "Pretty printing has been turned OFF\n"
     ]
    }
   ],
   "source": [
    "# turn off pretty printing, because the slides can't handle the verticality\n",
    "%pprint"
   ]
  },
  {
   "cell_type": "code",
   "execution_count": 2,
   "id": "ff407133-e0f3-4c54-a62b-bb879279817d",
   "metadata": {
    "editable": true,
    "slideshow": {
     "slide_type": "skip"
    },
    "tags": []
   },
   "outputs": [],
   "source": [
    "# load supriya's ipython extension to capture audio/graphs\n",
    "%load_ext supriya.ext.ipython"
   ]
  },
  {
   "cell_type": "code",
   "execution_count": 3,
   "id": "3e7aa19d-94c6-46be-a70b-39d2f375d907",
   "metadata": {
    "editable": true,
    "slideshow": {
     "slide_type": "skip"
    },
    "tags": []
   },
   "outputs": [],
   "source": [
    "# kill any running scsynth/supernova servers\n",
    "from supriya.scsynth import kill\n",
    "\n",
    "kill()"
   ]
  },
  {
   "cell_type": "code",
   "execution_count": 4,
   "id": "420ca957-0e82-44c4-8f35-59af1a6a97cf",
   "metadata": {
    "editable": true,
    "slideshow": {
     "slide_type": "skip"
    },
    "tags": []
   },
   "outputs": [],
   "source": [
    "# turn soundcheck on\n",
    "import supriya\n",
    "\n",
    "server = supriya.Server().boot()\n",
    "with server.at():\n",
    "    with server.add_synthdefs(supriya.default):\n",
    "        server.add_synth(supriya.default)"
   ]
  },
  {
   "cell_type": "code",
   "execution_count": 5,
   "id": "1791c900-b1b2-4f65-b2ea-26d1c1b028fb",
   "metadata": {
    "editable": true,
    "slideshow": {
     "slide_type": "skip"
    },
    "tags": []
   },
   "outputs": [],
   "source": [
    "# turn soundcheck off\n",
    "_ = server.quit()"
   ]
  },
  {
   "attachments": {},
   "cell_type": "markdown",
   "id": "c11ee89a-408a-498e-a62c-96b43c795d16",
   "metadata": {
    "editable": true,
    "slideshow": {
     "slide_type": "slide"
    },
    "tags": []
   },
   "source": [
    "September 17th, 2025\n",
    "\n",
    "# Supriya: a Python API for SuperCollider\n",
    "\n",
    "**Joséphine Wolf Oberholtzer (she/her)** <br/>\n",
    "https://josephine-wolf-oberholtzer.com/\n",
    "\n",
    "https://github.com/supriya-project/supriya/ <br/>\n",
    "tree/main/docs/notebooks/supercollider-symposium-2025/presentation.ipynb"
   ]
  },
  {
   "cell_type": "markdown",
   "id": "cd068b6e-badd-49d4-b46e-b8d429df9386",
   "metadata": {
    "editable": true,
    "slideshow": {
     "slide_type": "subslide"
    },
    "tags": []
   },
   "source": [
    "<div style=\"display: flex; flex-direction: row; justify-content: space-around;\">\n",
    "  <div style=\"text-align: center;\">\n",
    "    <img src=\"qr-bio.png\" height=\"250\" width=\"250\"/><br />\n",
    "    BIO\n",
    "  </div>\n",
    "  <div><img src=\"apsara.jpg\" width=\"250\"/></div>\n",
    "  <div style=\"text-align: center;\">\n",
    "    <img src=\"qr-github.png\" height=\"250\" width=\"250\"/><br />\n",
    "    GITHUB\n",
    "  </div>\n",
    "</div>"
   ]
  }
 ],
 "metadata": {
  "kernelspec": {
   "display_name": "Python 3 (ipykernel)",
   "language": "python",
   "name": "python3"
  },
  "language_info": {
   "codemirror_mode": {
    "name": "ipython",
    "version": 3
   },
   "file_extension": ".py",
   "mimetype": "text/x-python",
   "name": "python",
   "nbconvert_exporter": "python",
   "pygments_lexer": "ipython3",
   "version": "3.13.5"
  }
 },
 "nbformat": 4,
 "nbformat_minor": 5
}
