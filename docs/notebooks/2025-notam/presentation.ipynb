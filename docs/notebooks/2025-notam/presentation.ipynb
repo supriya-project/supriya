{
 "cells": [
  {
   "cell_type": "code",
   "execution_count": 1,
   "id": "375fc491-ef94-45f2-90c7-3667666da37c",
   "metadata": {
    "editable": true,
    "slideshow": {
     "slide_type": "skip"
    },
    "tags": []
   },
   "outputs": [
    {
     "name": "stdout",
     "output_type": "stream",
     "text": [
      "Pretty printing has been turned OFF\n"
     ]
    }
   ],
   "source": [
    "# turn off pretty printing, because the slides can't handle the verticality\n",
    "%pprint"
   ]
  },
  {
   "cell_type": "code",
   "execution_count": 2,
   "id": "aa0c8176-2aa3-4069-8ee5-dfb8a6f319d6",
   "metadata": {
    "editable": true,
    "slideshow": {
     "slide_type": "skip"
    },
    "tags": []
   },
   "outputs": [],
   "source": [
    "# load supriya's ipython extension to capture audio/graphs\n",
    "%load_ext supriya.ext.ipython"
   ]
  },
  {
   "cell_type": "code",
   "execution_count": 3,
   "id": "f65ba54f-6ccd-4d75-b97c-ce990ffdf942",
   "metadata": {
    "editable": true,
    "slideshow": {
     "slide_type": "skip"
    },
    "tags": []
   },
   "outputs": [],
   "source": [
    "# kill any running scsynth/supernova servers\n",
    "from supriya.scsynth import kill\n",
    "\n",
    "kill()"
   ]
  },
  {
   "cell_type": "code",
   "execution_count": 4,
   "id": "cdcf37d0-3b4f-4cbd-9e90-fa1245c3b961",
   "metadata": {
    "editable": true,
    "slideshow": {
     "slide_type": "skip"
    },
    "tags": []
   },
   "outputs": [],
   "source": [
    "# turn soundcheck on\n",
    "import supriya\n",
    "\n",
    "server = supriya.Server().boot()\n",
    "with server.at():\n",
    "    with server.add_synthdefs(supriya.default):\n",
    "        server.add_synth(supriya.default)"
   ]
  },
  {
   "cell_type": "code",
   "execution_count": 5,
   "id": "0e4d4251-a0cf-430c-886d-19c20f160166",
   "metadata": {
    "editable": true,
    "slideshow": {
     "slide_type": "skip"
    },
    "tags": []
   },
   "outputs": [],
   "source": [
    "# turn soundcheck off\n",
    "_ = server.quit()"
   ]
  },
  {
   "attachments": {},
   "cell_type": "markdown",
   "id": "4670abad-1c37-4577-8b00-6a66f8d360de",
   "metadata": {
    "editable": true,
    "slideshow": {
     "slide_type": "slide"
    },
    "tags": []
   },
   "source": [
    "March 14th, 2025\n",
    "\n",
    "# Supriya: a Python API for SuperCollider\n",
    "\n",
    "**Joséphine Wolf Oberholtzer (she/her)** <br/>\n",
    "https://josephine-wolf-oberholtzer.com/\n",
    "\n",
    "https://github.com/supriya-project/supriya/ <br/>\n",
    "tree/main/docs/notebooks/supercollider-symposium-2025/presentation.ipynb"
   ]
  },
  {
   "cell_type": "markdown",
   "id": "3497fdd6-c633-43a3-a9b7-85a6ee1447ab",
   "metadata": {
    "editable": true,
    "slideshow": {
     "slide_type": "subslide"
    },
    "tags": []
   },
   "source": [
    "<div style=\"display: flex; flex-direction: row; justify-content: space-around;\">\n",
    "  <div style=\"text-align: center;\">\n",
    "    <img src=\"qr-bio.png\" height=\"250\" width=\"250\"/><br />\n",
    "    BIO\n",
    "  </div>\n",
    "  <div><img src=\"apsara.jpg\" width=\"250\"/></div>\n",
    "  <div style=\"text-align: center;\">\n",
    "    <img src=\"qr-github.png\" height=\"250\" width=\"250\"/><br />\n",
    "    GITHUB\n",
    "  </div>\n",
    "</div>"
   ]
  },
  {
   "cell_type": "markdown",
   "id": "50e3b3d8-5b58-4128-a21d-df50af8d18b3",
   "metadata": {
    "editable": true,
    "slideshow": {
     "slide_type": "slide"
    },
    "tags": []
   },
   "source": [
    "## Preamble"
   ]
  },
  {
   "cell_type": "raw",
   "id": "81d70e8c-1eda-4bb6-8d62-89d6e6aa42c3",
   "metadata": {
    "editable": true,
    "jp-MarkdownHeadingCollapsed": true,
    "slideshow": {
     "slide_type": "subslide"
    },
    "tags": []
   },
   "source": [
    "### Who am I\n",
    "\n",
    "- Started writing in Python in 2009\n",
    "- PhD from Harvard in music composition\n",
    "    - massively multichannel tape music\n",
    "    - symbolic composition in Python & LilyPond via Abjad\n",
    "- In industry for over a decade: Forced Exposure, Discogs, Capital One, Cortico/MIT\n",
    "- Staff engineer at Cortico: systems architecture, backend, devops"
   ]
  },
  {
   "cell_type": "markdown",
   "id": "a76de54d-5662-4441-8e70-2636a46ad422",
   "metadata": {
    "editable": true,
    "slideshow": {
     "slide_type": "subslide"
    },
    "tags": []
   },
   "source": [
    "### What Supriya is for\n",
    "\n",
    "- A foundational layer for application code\n",
    "- Consistent API for realtime and non-realtime\n",
    "- Consistent API for threaded and async concurrency models\n",
    "- Musical-time-aware clocks\n",
    "- Especially suited for headless applications\n",
    "- Let's just make it easy to use SuperCollider inside the Python ecosystem!"
   ]
  },
  {
   "cell_type": "markdown",
   "id": "29488b60-d728-45f5-a899-be0415dd5ed9",
   "metadata": {
    "editable": true,
    "slideshow": {
     "slide_type": "subslide"
    },
    "tags": []
   },
   "source": [
    "### What Supriya isn't for\n",
    "\n",
    "- Recreating sclang's class library\n",
    "- Live coding (but you can try... we're gonna do it in a moment)\n",
    "- UIs (other libraries exist)\n",
    "- IDEs (other libraries exist)\n",
    "- MIDI (other libraries exist)\n",
    "- etc."
   ]
  },
  {
   "cell_type": "markdown",
   "id": "792139e8-2ac6-4412-b551-86fbdd775b2a",
   "metadata": {
    "editable": true,
    "slideshow": {
     "slide_type": "subslide"
    },
    "tags": []
   },
   "source": [
    "### Why Python?\n",
    "\n",
    "- Many orders of magnitude more people use Python than sclang\n",
    "- Visibility / support is very good\n",
    "- Huge vibrant ecosystem (most things I might want somebody already invented)\n",
    "  - strong support for web frameworks, data science / ml / scientific computing, etc.\n",
    "- Relatively simple syntax, _initially_ at least\n",
    "- Good developer experience (tracebacks, debugging, testing, linting, formatting, type checking, CI, docs tooling, etc.)"
   ]
  },
  {
   "cell_type": "markdown",
   "id": "a88a1359-fb86-4d12-b617-1ae4f7dc4d1a",
   "metadata": {
    "editable": true,
    "slideshow": {
     "slide_type": "subslide"
    },
    "tags": []
   },
   "source": [
    "### What I'm _not_ gonna cover\n",
    "\n",
    "- How to use Python (although you'll probably learn a little)\n",
    "- How to use SuperCollider\n",
    "- How to install Supriya\n",
    "   - We don't have time!\n",
    "   - Ask me after!\n",
    "   - https://supriya-project.github.io/supriya/installation.html\n",
    "   - `pip install supriya`\n",
    "- Making really beautiful noises: this is orthogonal"
   ]
  },
  {
   "cell_type": "markdown",
   "id": "d233c8c0-2aef-4e39-9ca7-8bb5ae85fbac",
   "metadata": {
    "editable": true,
    "slideshow": {
     "slide_type": "subslide"
    },
    "tags": []
   },
   "source": [
    "### OK, but what _am_ I gonna cover\n",
    "\n",
    "- Basic usage\n",
    "- Design principles\n",
    "- Server, scores, context entities, synthdefs, osc, clocks, patterns, asyncio, testing, etc.\n",
    "  - Probably not getting to all of these, but we'll try "
   ]
  },
  {
   "cell_type": "markdown",
   "id": "4b34664d-33ed-496a-b8bb-0eb2150d68ca",
   "metadata": {
    "editable": true,
    "slideshow": {
     "slide_type": "subslide"
    },
    "tags": []
   },
   "source": [
    "### Design principles?\n",
    "\n",
    "- **Make it explicit**: avoid globals, avoid implicitness\n",
    "- **Make it ~boring~ simple**: avoid multiple means to the same ends, resist flexibility, \"there should be one (and preferably only one) obvious way to do it\"\n",
    "- **Make it verbose**: give everything (non-fanciful) names, avoid abbreviations, prefer keywords over positionals, strive for using terms of art aligned with the wider language ecosystem\n",
    "- **Make it self-similar**: strive for identical means of interacting with similar things\n",
    "- **Make it narrowly focused**: don't have to _implement_ what's already implemented in the rest of the ecosystem, but may have to _integrate_ with it\n",
    "- **Make it easily introspectable, easily testable**"
   ]
  },
  {
   "cell_type": "markdown",
   "id": "ca7c9bae-96e9-4335-a504-fcb01680ad34",
   "metadata": {
    "editable": true,
    "slideshow": {
     "slide_type": "slide"
    },
    "tags": []
   },
   "source": [
    "## Realtime contexts: Servers"
   ]
  },
  {
   "cell_type": "markdown",
   "id": "4cd7f5d4-92e4-4f0f-a94e-eaa77201ad09",
   "metadata": {
    "editable": true,
    "slideshow": {
     "slide_type": "subslide"
    },
    "tags": []
   },
   "source": [
    "### Import supriya"
   ]
  },
  {
   "cell_type": "code",
   "execution_count": null,
   "id": "fa85883e-82dd-4d3e-a0d2-00dd56549f42",
   "metadata": {
    "editable": true,
    "slideshow": {
     "slide_type": ""
    },
    "tags": []
   },
   "outputs": [],
   "source": [
    "# supriya is a package, so let's import it\n",
    "import supriya"
   ]
  },
  {
   "cell_type": "code",
   "execution_count": null,
   "id": "7090dab6-31d2-4906-9890-22f2bb8260f0",
   "metadata": {},
   "outputs": [],
   "source": [
    "# everything in python is an object, so we can do some inspecting\n",
    "supriya"
   ]
  },
  {
   "cell_type": "code",
   "execution_count": null,
   "id": "601689d7-7354-4c3d-ab9a-60aa3173c22e",
   "metadata": {
    "editable": true,
    "slideshow": {
     "slide_type": "subslide"
    },
    "tags": []
   },
   "outputs": [],
   "source": [
    "# let's look at the names defined inside the supriya namespace\n",
    "dir(supriya)"
   ]
  },
  {
   "cell_type": "markdown",
   "id": "718c0257-4061-44c7-ab65-969aa3314ec0",
   "metadata": {
    "editable": true,
    "slideshow": {
     "slide_type": "subslide"
    },
    "tags": []
   },
   "source": [
    "### Import `Server`"
   ]
  },
  {
   "cell_type": "code",
   "execution_count": null,
   "id": "1038d0f1-69ea-483d-b4d5-3bfcfab19cc4",
   "metadata": {
    "editable": true,
    "slideshow": {
     "slide_type": ""
    },
    "tags": []
   },
   "outputs": [],
   "source": [
    "# we can import individual names out of supriya's namespace\n",
    "from supriya import Server"
   ]
  },
  {
   "cell_type": "code",
   "execution_count": null,
   "id": "99456c5d-f398-4357-a14a-8900ce5f0eb2",
   "metadata": {
    "editable": true,
    "slideshow": {
     "slide_type": ""
    },
    "tags": []
   },
   "outputs": [],
   "source": [
    "# instantiate the server\n",
    "server = Server()"
   ]
  },
  {
   "cell_type": "code",
   "execution_count": null,
   "id": "03dc3218-4f83-4018-b2a7-9c64e8fbc572",
   "metadata": {
    "editable": true,
    "slideshow": {
     "slide_type": "subslide"
    },
    "tags": []
   },
   "outputs": [],
   "source": [
    "# let's look at the names inside the Server namespace\n",
    "dir(server)"
   ]
  },
  {
   "cell_type": "code",
   "execution_count": null,
   "id": "9b4db794-c7d8-4389-900a-c1b6832b60dd",
   "metadata": {
    "editable": true,
    "slideshow": {
     "slide_type": "subslide"
    },
    "tags": []
   },
   "outputs": [],
   "source": [
    "# actually let's look at the public name inside the Server namespace...\n",
    "# this is a list comprehension with a filtering clause:\n",
    "[name for name in dir(server) if not name.startswith(\"_\")]"
   ]
  },
  {
   "cell_type": "markdown",
   "id": "aa51a566-8b28-4107-bb7d-ac614cf17e88",
   "metadata": {
    "editable": true,
    "slideshow": {
     "slide_type": "subslide"
    },
    "tags": []
   },
   "source": [
    "### Server options"
   ]
  },
  {
   "cell_type": "code",
   "execution_count": null,
   "id": "e73b1886-e7e0-4bf8-984a-5a3058e3d3ef",
   "metadata": {
    "editable": true,
    "slideshow": {
     "slide_type": ""
    },
    "tags": []
   },
   "outputs": [],
   "source": [
    "# print the server's \"interpreter representation\"\n",
    "server"
   ]
  },
  {
   "cell_type": "code",
   "execution_count": null,
   "id": "91d3dcd7-05f7-48d0-adbc-6c980e85340e",
   "metadata": {
    "editable": true,
    "slideshow": {
     "slide_type": ""
    },
    "tags": []
   },
   "outputs": [],
   "source": [
    "# inspect the server's options\n",
    "server.options"
   ]
  },
  {
   "cell_type": "code",
   "execution_count": null,
   "id": "7e2e8b27-8449-429f-96d6-30c5e0eec959",
   "metadata": {
    "editable": true,
    "slideshow": {
     "slide_type": "subslide"
    },
    "tags": []
   },
   "outputs": [],
   "source": [
    "# options correspond to CLI flags\n",
    "!scsynth -h"
   ]
  },
  {
   "cell_type": "markdown",
   "id": "c912f762-4a34-46fe-8ee3-99cdebe76596",
   "metadata": {
    "editable": true,
    "slideshow": {
     "slide_type": "subslide"
    },
    "tags": []
   },
   "source": [
    "### Boot the server"
   ]
  },
  {
   "cell_type": "code",
   "execution_count": null,
   "id": "c9febd96-3538-4aaa-a4c2-63d20236e757",
   "metadata": {
    "editable": true,
    "slideshow": {
     "slide_type": ""
    },
    "tags": []
   },
   "outputs": [],
   "source": [
    "# boot her, returning the server (making this chainable)\n",
    "server.boot()"
   ]
  },
  {
   "cell_type": "markdown",
   "id": "1d48b0e8-fa6d-4d82-9e4e-68aa645d8d7d",
   "metadata": {
    "editable": true,
    "slideshow": {
     "slide_type": "subslide"
    },
    "tags": []
   },
   "source": [
    "### Query the server"
   ]
  },
  {
   "cell_type": "code",
   "execution_count": null,
   "id": "e32b99e7-7e6f-4723-8b6c-68e78931ec65",
   "metadata": {
    "editable": true,
    "slideshow": {
     "slide_type": ""
    },
    "tags": []
   },
   "outputs": [],
   "source": [
    "# ask for the query's status\n",
    "# as reported via /status & /status.reply\n",
    "server.status"
   ]
  },
  {
   "cell_type": "code",
   "execution_count": null,
   "id": "1c24e0ba-b434-43c8-9f73-f2fa31d3cea9",
   "metadata": {
    "editable": true,
    "slideshow": {
     "slide_type": ""
    },
    "tags": []
   },
   "outputs": [],
   "source": [
    "# print the node tree, assigning to a variable along the way\n",
    "print(tree := server.query_tree())"
   ]
  },
  {
   "cell_type": "code",
   "execution_count": null,
   "id": "6ea174fa-911b-4bfb-8e6f-e4078bc6dd33",
   "metadata": {
    "editable": true,
    "slideshow": {
     "slide_type": ""
    },
    "tags": []
   },
   "outputs": [],
   "source": [
    "# this is actually a query tree object, not just a string\n",
    "# ... which is helpful in more complex unit testing situations\n",
    "# ... because the tree can be annotated with information beyond what scsynth provides\n",
    "# ... but we can still use string comparisons\n",
    "tree"
   ]
  },
  {
   "cell_type": "markdown",
   "id": "c8baccc7-375b-4d22-88a9-6f06f7d36701",
   "metadata": {
    "editable": true,
    "slideshow": {
     "slide_type": "subslide"
    },
    "tags": []
   },
   "source": [
    "### Quit the server"
   ]
  },
  {
   "cell_type": "code",
   "execution_count": null,
   "id": "0ab70b1d-739b-409c-a9f6-bf86a8deb331",
   "metadata": {
    "editable": true,
    "slideshow": {
     "slide_type": ""
    },
    "tags": []
   },
   "outputs": [],
   "source": [
    "# quit the server\n",
    "# note the status in the repr\n",
    "server.quit()"
   ]
  },
  {
   "cell_type": "markdown",
   "id": "412159d4-5a5d-43f8-ad18-ce12e29bccff",
   "metadata": {
    "editable": true,
    "slideshow": {
     "slide_type": "subslide"
    },
    "tags": []
   },
   "source": [
    "### Boot with options"
   ]
  },
  {
   "cell_type": "code",
   "execution_count": null,
   "id": "a05b2f91-56f1-470b-b7bc-2faf1991762b",
   "metadata": {
    "editable": true,
    "slideshow": {
     "slide_type": ""
    },
    "tags": []
   },
   "outputs": [],
   "source": [
    "# recall all the options from before\n",
    "server.options"
   ]
  },
  {
   "cell_type": "code",
   "execution_count": null,
   "id": "909c6c0e-9c62-49b9-8fae-f6a5565aeb21",
   "metadata": {
    "editable": true,
    "slideshow": {
     "slide_type": ""
    },
    "tags": []
   },
   "outputs": [],
   "source": [
    "# we can use those keywords to configure new options when booting, rebooting, quitting, etc.\n",
    "server.boot(maximum_logins=2)"
   ]
  },
  {
   "cell_type": "markdown",
   "id": "a61ac68d-f7cc-4320-a1bf-1947ff4bb544",
   "metadata": {
    "editable": true,
    "slideshow": {
     "slide_type": "subslide"
    },
    "tags": []
   },
   "source": [
    "### Multiple users"
   ]
  },
  {
   "cell_type": "code",
   "execution_count": null,
   "id": "84360740-24a5-49c9-8167-3742417b79e3",
   "metadata": {
    "editable": true,
    "slideshow": {
     "slide_type": ""
    },
    "tags": []
   },
   "outputs": [],
   "source": [
    "# We can create a handle to a second server proxy,\n",
    "# pointed back at the same IP address and port as the first\n",
    "other_server = Server()\n",
    "other_server"
   ]
  },
  {
   "cell_type": "code",
   "execution_count": null,
   "id": "c54daeef-2045-4c54-b34f-ed0e57b0276e",
   "metadata": {
    "editable": true,
    "slideshow": {
     "slide_type": ""
    },
    "tags": []
   },
   "outputs": [],
   "source": [
    "# note the port is basically the same as `other_server`\n",
    "# not counting the -l flag which the connecting server ignores\n",
    "server"
   ]
  },
  {
   "cell_type": "code",
   "execution_count": null,
   "id": "92ed6fff-9e25-44a1-86e9-706b9e3c5b20",
   "metadata": {
    "editable": true,
    "slideshow": {
     "slide_type": ""
    },
    "tags": []
   },
   "outputs": [],
   "source": [
    "# connect to the original server via .connect()\n",
    "other_server.connect()"
   ]
  },
  {
   "cell_type": "code",
   "execution_count": null,
   "id": "78415419-f4a2-40f7-b661-02f5d571467b",
   "metadata": {
    "editable": true,
    "slideshow": {
     "slide_type": "subslide"
    },
    "tags": []
   },
   "outputs": [],
   "source": [
    "# note that the client IDs are different, as expected\n",
    "print(f\"{server.client_id=}\")\n",
    "print(f\"{other_server.client_id=}\")"
   ]
  },
  {
   "cell_type": "code",
   "execution_count": null,
   "id": "e5974137-3274-4895-b11a-4706add9ef50",
   "metadata": {
    "editable": true,
    "slideshow": {
     "slide_type": ""
    },
    "tags": []
   },
   "outputs": [],
   "source": [
    "# disconnect from the original server\n",
    "other_server.disconnect()"
   ]
  },
  {
   "cell_type": "code",
   "execution_count": null,
   "id": "b2339bc7-ecd9-4e9d-abc7-d617e185a984",
   "metadata": {
    "editable": true,
    "slideshow": {
     "slide_type": ""
    },
    "tags": []
   },
   "outputs": [],
   "source": [
    "# the original server remains online\n",
    "server"
   ]
  },
  {
   "cell_type": "markdown",
   "id": "602df54d-6601-4d74-9cff-6a5110537242",
   "metadata": {
    "editable": true,
    "slideshow": {
     "slide_type": "subslide"
    },
    "tags": []
   },
   "source": [
    "### Lifecycle events"
   ]
  },
  {
   "cell_type": "code",
   "execution_count": null,
   "id": "636b89ae-2944-4caa-99fe-ecaef68c81b0",
   "metadata": {},
   "outputs": [],
   "source": [
    "# servers emit a variety of \"lifecycle events\"\n",
    "# while booting, connecting, disconnecting, quitting and crashing\n",
    "for event_type in supriya.ServerLifecycleEvent:\n",
    "    print(repr(event_type))"
   ]
  },
  {
   "cell_type": "code",
   "execution_count": null,
   "id": "9bbed006-479a-4458-9139-c6955f0c4060",
   "metadata": {
    "editable": true,
    "slideshow": {
     "slide_type": "subslide"
    },
    "tags": []
   },
   "outputs": [],
   "source": [
    "# define a simple callback to print the event\n",
    "def on_event(event):\n",
    "    print(repr(event))"
   ]
  },
  {
   "cell_type": "code",
   "execution_count": null,
   "id": "60d40761-7b56-4ab9-82e7-9de98f890f61",
   "metadata": {
    "editable": true,
    "slideshow": {
     "slide_type": ""
    },
    "tags": []
   },
   "outputs": [],
   "source": [
    "# register the callback for every event type\n",
    "# this is akin to sclang's doWhenBooted\n",
    "for event_type in supriya.ServerLifecycleEvent:\n",
    "    server.register_lifecycle_callback(event_type, on_event)\n",
    "    other_server.register_lifecycle_callback(event_type, on_event)"
   ]
  },
  {
   "cell_type": "code",
   "execution_count": null,
   "id": "b17018bc-ec09-4d18-8900-f92145517f49",
   "metadata": {
    "editable": true,
    "scrolled": true,
    "slideshow": {
     "slide_type": ""
    },
    "tags": []
   },
   "outputs": [],
   "source": [
    "# this will go through quitting then booting\n",
    "server.reboot()"
   ]
  },
  {
   "cell_type": "code",
   "execution_count": null,
   "id": "3f2a8740-bda9-4c88-ad01-2cd28b5e4369",
   "metadata": {
    "editable": true,
    "slideshow": {
     "slide_type": "subslide"
    },
    "tags": []
   },
   "outputs": [],
   "source": [
    "# this will panic!\n",
    "other_server.boot()"
   ]
  },
  {
   "cell_type": "code",
   "execution_count": null,
   "id": "1548a1a7-f008-475f-aa78-a0491b29b724",
   "metadata": {
    "editable": true,
    "slideshow": {
     "slide_type": ""
    },
    "tags": []
   },
   "outputs": [],
   "source": [
    "# and now just the quitting events\n",
    "server.quit()"
   ]
  },
  {
   "cell_type": "markdown",
   "id": "d5541646-70fa-4e30-8fe6-a31784889c60",
   "metadata": {
    "editable": true,
    "slideshow": {
     "slide_type": "slide"
    },
    "tags": []
   },
   "source": [
    "## Context Entities"
   ]
  },
  {
   "cell_type": "markdown",
   "id": "6c9508ca-503b-4598-9d7f-ff6a86dd54b3",
   "metadata": {
    "editable": true,
    "jp-MarkdownHeadingCollapsed": true,
    "slideshow": {
     "slide_type": ""
    },
    "tags": []
   },
   "source": [
    "... entities that live inside a synthesis _context_...\n",
    "\n",
    "... Groups, Synths, Busses and Buffers ..."
   ]
  },
  {
   "cell_type": "markdown",
   "id": "0d747f16-9c98-4e76-af22-8beef7f7f222",
   "metadata": {
    "editable": true,
    "slideshow": {
     "slide_type": "subslide"
    },
    "tags": []
   },
   "source": [
    "### Groups"
   ]
  },
  {
   "cell_type": "code",
   "execution_count": null,
   "id": "82b84bd3-e2c8-42f6-bd59-3c7bee1e06e7",
   "metadata": {
    "editable": true,
    "slideshow": {
     "slide_type": ""
    },
    "tags": []
   },
   "outputs": [],
   "source": [
    "server = Server().boot()"
   ]
  },
  {
   "cell_type": "code",
   "execution_count": null,
   "id": "20df0141-39de-419f-b688-2e50674f7eca",
   "metadata": {
    "editable": true,
    "slideshow": {
     "slide_type": ""
    },
    "tags": []
   },
   "outputs": [],
   "source": [
    "# add a group\n",
    "(group := server.add_group())"
   ]
  },
  {
   "cell_type": "code",
   "execution_count": null,
   "id": "5ab71b19-a899-4a05-8470-bbc33c2250a1",
   "metadata": {
    "editable": true,
    "slideshow": {
     "slide_type": ""
    },
    "tags": []
   },
   "outputs": [],
   "source": [
    "print(dir(group))"
   ]
  },
  {
   "cell_type": "code",
   "execution_count": null,
   "id": "d762d48e-106b-4db9-a7b0-11017479cf6f",
   "metadata": {
    "editable": true,
    "slideshow": {
     "slide_type": ""
    },
    "tags": []
   },
   "outputs": [],
   "source": [
    "# verify the group's in the node tree\n",
    "print(server.query_tree())"
   ]
  },
  {
   "cell_type": "code",
   "execution_count": null,
   "id": "ee63edc9-bbb2-445f-a7c6-499eb1782f8e",
   "metadata": {
    "editable": true,
    "slideshow": {
     "slide_type": "subslide"
    },
    "tags": []
   },
   "outputs": [],
   "source": [
    "# add a group to the group\n",
    "child_group = group.add_group()\n",
    "print(server.query_tree())"
   ]
  },
  {
   "cell_type": "code",
   "execution_count": null,
   "id": "0dd578c4-8413-4f4f-940e-c68780f1f5df",
   "metadata": {
    "editable": true,
    "slideshow": {
     "slide_type": ""
    },
    "tags": []
   },
   "outputs": [],
   "source": [
    "# move the child group into the default group\n",
    "child_group.move(target_node=server.default_group, add_action=\"ADD_TO_TAIL\")\n",
    "print(server.query_tree())"
   ]
  },
  {
   "cell_type": "code",
   "execution_count": null,
   "id": "9ba833bf-0e3c-41c8-8a7d-d93a66db3b67",
   "metadata": {
    "editable": true,
    "slideshow": {
     "slide_type": ""
    },
    "tags": []
   },
   "outputs": [],
   "source": [
    "# free the original parent group\n",
    "group.free()\n",
    "print(server.query_tree())"
   ]
  },
  {
   "cell_type": "markdown",
   "id": "e87024c0-5578-4d8c-a602-06859fb436f9",
   "metadata": {
    "editable": true,
    "slideshow": {
     "slide_type": "subslide"
    },
    "tags": []
   },
   "source": [
    "### Synths"
   ]
  },
  {
   "cell_type": "code",
   "execution_count": null,
   "id": "c6227c61-f445-44dc-bf6e-f6497d26e140",
   "metadata": {
    "editable": true,
    "slideshow": {
     "slide_type": ""
    },
    "tags": []
   },
   "outputs": [],
   "source": [
    "# add a synth (this will fail with a warning)\n",
    "synth = child_group.add_synth(synthdef=supriya.default)"
   ]
  },
  {
   "cell_type": "code",
   "execution_count": null,
   "id": "be7a54e1-b974-4d61-9dc6-8d031d01c146",
   "metadata": {
    "editable": true,
    "slideshow": {
     "slide_type": ""
    },
    "tags": []
   },
   "outputs": [],
   "source": [
    "# yet, we have a proxy to a synth (useless now, i know)\n",
    "synth"
   ]
  },
  {
   "cell_type": "code",
   "execution_count": null,
   "id": "a3adb964-e2e4-40b5-b220-269b00232d41",
   "metadata": {
    "editable": true,
    "slideshow": {
     "slide_type": ""
    },
    "tags": []
   },
   "outputs": [],
   "source": [
    "# but nothing on the server, because the request failed\n",
    "print(server.query_tree())"
   ]
  },
  {
   "cell_type": "markdown",
   "id": "3085898e-3651-458c-a66d-080173dcdbd0",
   "metadata": {
    "editable": true,
    "slideshow": {
     "slide_type": "subslide"
    },
    "tags": []
   },
   "source": [
    "#### Completions"
   ]
  },
  {
   "cell_type": "code",
   "execution_count": null,
   "id": "f3202390-d6a2-4139-a4c0-1ab171476fe0",
   "metadata": {
    "editable": true,
    "slideshow": {
     "slide_type": ""
    },
    "tags": []
   },
   "outputs": [],
   "source": [
    "# let's allocate the synthdef and the synth properly\n",
    "# we use a \"moment\" to populate a _potential_ bundle\n",
    "# and a \"completion\" to populate /d_recv's completion message\n",
    "with server.at() as moment:\n",
    "    with server.add_synthdefs(supriya.default) as completion:\n",
    "        synth = child_group.add_synth(synthdef=supriya.default, frequency=666)"
   ]
  },
  {
   "cell_type": "code",
   "execution_count": null,
   "id": "61fece91-4d7f-4a8c-a9ad-55ea7693b329",
   "metadata": {
    "editable": true,
    "slideshow": {
     "slide_type": ""
    },
    "tags": []
   },
   "outputs": [],
   "source": [
    "# wait for the synthdef to load via .sync() then print the node tree\n",
    "server.sync()\n",
    "print(server.query_tree())"
   ]
  },
  {
   "cell_type": "code",
   "execution_count": null,
   "id": "24a9564d-59ed-439e-a931-0a862134dbcd",
   "metadata": {
    "editable": true,
    "slideshow": {
     "slide_type": ""
    },
    "tags": []
   },
   "outputs": [],
   "source": [
    "# free the synth, just like the group\n",
    "synth.free()"
   ]
  },
  {
   "cell_type": "code",
   "execution_count": null,
   "id": "c7e6e211-69e2-4a32-8259-8360cf165a1e",
   "metadata": {
    "editable": true,
    "slideshow": {
     "slide_type": "subslide"
    },
    "tags": []
   },
   "outputs": [],
   "source": [
    "# wait, what was that \"moment\" thing...\n",
    "moment"
   ]
  },
  {
   "cell_type": "code",
   "execution_count": null,
   "id": "bf876085-ccc9-4ae0-a9d8-0051c1e68997",
   "metadata": {
    "editable": true,
    "slideshow": {
     "slide_type": ""
    },
    "tags": []
   },
   "outputs": [],
   "source": [
    "# and what was that \"completion\" thing...\n",
    "completion"
   ]
  },
  {
   "cell_type": "code",
   "execution_count": null,
   "id": "22236831-d420-4367-a6ff-2ae406db0bb6",
   "metadata": {
    "editable": true,
    "slideshow": {
     "slide_type": "subslide"
    },
    "tags": []
   },
   "outputs": [],
   "source": [
    "# since the full moment is hard to read, let's dig into the requests\n",
    "moment.requests[0][0]"
   ]
  },
  {
   "cell_type": "code",
   "execution_count": null,
   "id": "1d2d6ee6-a439-4871-b132-94b487c22c80",
   "metadata": {},
   "outputs": [],
   "source": [
    "# and for the completion too...\n",
    "completion.requests[0][0]"
   ]
  },
  {
   "cell_type": "markdown",
   "id": "cfdf9e4f-6a52-4b02-95a7-0f5c8849b22c",
   "metadata": {
    "editable": true,
    "slideshow": {
     "slide_type": "subslide"
    },
    "tags": []
   },
   "source": [
    "### Buses"
   ]
  },
  {
   "cell_type": "code",
   "execution_count": null,
   "id": "32938f48-99b9-48b6-8eba-22c083c209dc",
   "metadata": {
    "editable": true,
    "slideshow": {
     "slide_type": ""
    },
    "tags": []
   },
   "outputs": [],
   "source": [
    "# add a control bus\n",
    "(control_bus := server.add_bus())"
   ]
  },
  {
   "cell_type": "code",
   "execution_count": null,
   "id": "ec2e6dcc-542e-492b-9d9d-24a283bd09de",
   "metadata": {
    "editable": true,
    "slideshow": {
     "slide_type": ""
    },
    "tags": []
   },
   "outputs": [],
   "source": [
    "# add an audio bus\n",
    "(audio_bus := server.add_bus(\"audio\"))"
   ]
  },
  {
   "cell_type": "code",
   "execution_count": null,
   "id": "2a29991d-2663-4141-81d5-afb6c7986750",
   "metadata": {
    "editable": true,
    "slideshow": {
     "slide_type": "subslide"
    },
    "tags": []
   },
   "outputs": [],
   "source": [
    "# add a bus group\n",
    "(control_bus_group := server.add_bus_group(count=4))"
   ]
  },
  {
   "cell_type": "code",
   "execution_count": null,
   "id": "320a5ccd-bcbb-4c0c-be07-f8cc35fa4be5",
   "metadata": {
    "editable": true,
    "slideshow": {
     "slide_type": ""
    },
    "tags": []
   },
   "outputs": [],
   "source": [
    "# bus groups don't actually have a concrete reality server-side\n",
    "# a bus group aggregates together bus objects\n",
    "for bus in control_bus_group:\n",
    "    print(bus)"
   ]
  },
  {
   "cell_type": "code",
   "execution_count": null,
   "id": "3d7fcc41-0826-4a00-9189-019ae9805e53",
   "metadata": {
    "editable": true,
    "slideshow": {
     "slide_type": "subslide"
    },
    "tags": []
   },
   "outputs": [],
   "source": [
    "server.audio_input_bus_group"
   ]
  },
  {
   "cell_type": "code",
   "execution_count": null,
   "id": "ab1b4842-cb20-4079-8680-549875044b71",
   "metadata": {
    "editable": true,
    "slideshow": {
     "slide_type": ""
    },
    "tags": []
   },
   "outputs": [],
   "source": [
    "server.audio_output_bus_group"
   ]
  },
  {
   "cell_type": "markdown",
   "id": "da3ffeba-6979-4ee6-a214-32fed437041e",
   "metadata": {
    "editable": true,
    "slideshow": {
     "slide_type": "subslide"
    },
    "tags": []
   },
   "source": [
    "#### Shared Memory"
   ]
  },
  {
   "cell_type": "code",
   "execution_count": null,
   "id": "853c56f4-e3d5-4e95-bc6d-b02a40eff24f",
   "metadata": {
    "editable": true,
    "slideshow": {
     "slide_type": ""
    },
    "tags": []
   },
   "outputs": [],
   "source": [
    "# supriya supports the shared memory interface for control buses\n",
    "# this works on osx and linux, but not yet on windows\n",
    "server.shared_memory"
   ]
  },
  {
   "cell_type": "code",
   "execution_count": null,
   "id": "8a2166d4-c996-4e63-9488-08dcdcd4f4bc",
   "metadata": {
    "editable": true,
    "slideshow": {
     "slide_type": ""
    },
    "tags": []
   },
   "outputs": [],
   "source": [
    "# we can index by an integer, slice, bus or bus group\n",
    "print(server.shared_memory[0])\n",
    "print(server.shared_memory[2:8])\n",
    "print(server.shared_memory[control_bus])\n",
    "print(server.shared_memory[control_bus_group])"
   ]
  },
  {
   "cell_type": "code",
   "execution_count": null,
   "id": "368262b3-a739-4eec-a008-7c2f1edaa9a3",
   "metadata": {
    "editable": true,
    "slideshow": {
     "slide_type": ""
    },
    "tags": []
   },
   "outputs": [],
   "source": [
    "# and can set bus values directly indexed the same way\n",
    "server.shared_memory[control_bus_group] = [0.1, 0.5, 0.3, 0.2]\n",
    "server.shared_memory[control_bus_group]"
   ]
  },
  {
   "cell_type": "markdown",
   "id": "000688cd-e458-47d1-8f24-3142251ee5a4",
   "metadata": {
    "editable": true,
    "slideshow": {
     "slide_type": "subslide"
    },
    "tags": []
   },
   "source": [
    "#### Scopes"
   ]
  },
  {
   "cell_type": "code",
   "execution_count": null,
   "id": "c8f46727-11fa-4a1f-b334-56f996c3282c",
   "metadata": {},
   "outputs": [],
   "source": []
  },
  {
   "cell_type": "markdown",
   "id": "8e961d49-9cb1-45e4-b860-19f5bfb40caf",
   "metadata": {
    "editable": true,
    "slideshow": {
     "slide_type": "subslide"
    },
    "tags": []
   },
   "source": [
    "### Buffers"
   ]
  },
  {
   "cell_type": "code",
   "execution_count": null,
   "id": "abb4da7b-b733-42d1-ab48-3bb188c35308",
   "metadata": {
    "editable": true,
    "slideshow": {
     "slide_type": ""
    },
    "tags": []
   },
   "outputs": [],
   "source": [
    "# add a mono buffer with 64 frames\n",
    "buffer = server.add_buffer(channel_count=1, frame_count=64)"
   ]
  },
  {
   "cell_type": "code",
   "execution_count": null,
   "id": "9d27ebca-314a-4bba-a355-ecfeaee63ea0",
   "metadata": {
    "editable": true,
    "slideshow": {
     "slide_type": ""
    },
    "tags": []
   },
   "outputs": [],
   "source": [
    "# query the buffer\n",
    "buffer.query()"
   ]
  },
  {
   "cell_type": "code",
   "execution_count": null,
   "id": "1c42d936-bf94-41fa-913e-62f4cf12374a",
   "metadata": {
    "editable": true,
    "slideshow": {
     "slide_type": "subslide"
    },
    "tags": []
   },
   "outputs": [],
   "source": [
    "# generate a chebyshev polynomial in wavetable format\n",
    "buffer.generate(\"cheby\", amplitudes=[0.1, 0.2, 0.05], as_wavetable=True)"
   ]
  },
  {
   "cell_type": "code",
   "execution_count": null,
   "id": "03e5f650-f556-4640-af65-b1ffd5490d20",
   "metadata": {
    "editable": true,
    "slideshow": {
     "slide_type": ""
    },
    "tags": []
   },
   "outputs": [],
   "source": [
    "# get values at indices in the buffer\n",
    "buffer.get(0, 2, 4, 8)"
   ]
  },
  {
   "cell_type": "code",
   "execution_count": null,
   "id": "292f8127-25bc-452b-a3a5-45508ff2967a",
   "metadata": {
    "editable": true,
    "slideshow": {
     "slide_type": ""
    },
    "tags": []
   },
   "outputs": [],
   "source": [
    "# get a range of values\n",
    "buffer.get_range(index=0, count=16)"
   ]
  },
  {
   "cell_type": "code",
   "execution_count": null,
   "id": "ee5b618c-6a4f-4b33-a674-0ac15d6aaac0",
   "metadata": {
    "editable": true,
    "slideshow": {
     "slide_type": "subslide"
    },
    "tags": []
   },
   "outputs": [],
   "source": [
    "# import plot rendering helper\n",
    "from supriya import plot"
   ]
  },
  {
   "cell_type": "code",
   "execution_count": null,
   "id": "37d314a4-e499-4936-9b3f-6970ee72eae5",
   "metadata": {
    "editable": true,
    "slideshow": {
     "slide_type": ""
    },
    "tags": []
   },
   "outputs": [],
   "source": [
    "# plot the buffer (this takes a moment the first time)\n",
    "plot(buffer)"
   ]
  },
  {
   "cell_type": "code",
   "execution_count": null,
   "id": "04f5ec87-c4ce-4360-9c16-b56c8b224b86",
   "metadata": {
    "editable": true,
    "slideshow": {
     "slide_type": "subslide"
    },
    "tags": []
   },
   "outputs": [],
   "source": [
    "# read a file into a buffer\n",
    "file_path = supriya.samples_path / \"birds-01.wav\"\n",
    "other_buffer = server.add_buffer(file_path=file_path)\n",
    "plot(other_buffer)"
   ]
  },
  {
   "cell_type": "code",
   "execution_count": null,
   "id": "3d14918a-2951-45e0-914c-93fa2b65a5b2",
   "metadata": {
    "editable": true,
    "slideshow": {
     "slide_type": "subslide"
    },
    "tags": []
   },
   "outputs": [],
   "source": [
    "# import play helper\n",
    "from supriya import play"
   ]
  },
  {
   "cell_type": "code",
   "execution_count": null,
   "id": "cd90391e-e9db-4c0d-ae4b-f9dca110b9b5",
   "metadata": {
    "editable": true,
    "slideshow": {
     "slide_type": ""
    },
    "tags": []
   },
   "outputs": [],
   "source": [
    "# normally play() isn't async\n",
    "# but for fussy reasons related to jupyter itself being async,\n",
    "# we have to await here\n",
    "await play(other_buffer)"
   ]
  },
  {
   "cell_type": "code",
   "execution_count": null,
   "id": "44f70061-04d8-4244-8e3e-da5bb2cfabda",
   "metadata": {
    "editable": true,
    "slideshow": {
     "slide_type": "subslide"
    },
    "tags": []
   },
   "outputs": [],
   "source": [
    "# allocate a group of buffers, e.g.\n",
    "buffer_group = server.add_buffer_group(count=4, frame_count=512, channel_count=1)\n",
    "print(buffer_group)"
   ]
  },
  {
   "cell_type": "code",
   "execution_count": null,
   "id": "8a745fc4-c2e6-4c91-a0ec-90b33fa5f731",
   "metadata": {
    "editable": true,
    "slideshow": {
     "slide_type": "subslide"
    },
    "tags": []
   },
   "outputs": [],
   "source": [
    "# buffer groups don't actually have a concrete reality server-side\n",
    "# but we can iterate over the buffers in the group\n",
    "for buffer_ in buffer_group:\n",
    "    print(buffer_)"
   ]
  },
  {
   "cell_type": "code",
   "execution_count": null,
   "id": "d0fd089e-8665-4a25-8da4-4f55bebee3a9",
   "metadata": {
    "editable": true,
    "slideshow": {
     "slide_type": "subslide"
    },
    "tags": []
   },
   "outputs": [],
   "source": [
    "# free all the buffers\n",
    "buffer.free()\n",
    "other_buffer.free()\n",
    "buffer_group.free()"
   ]
  },
  {
   "cell_type": "markdown",
   "id": "cb472558-7ffa-417c-a4a3-87c789465399",
   "metadata": {
    "editable": true,
    "raw_mimetype": "",
    "slideshow": {
     "slide_type": "slide"
    },
    "tags": []
   },
   "source": [
    "## Non-realtime contexts: Scores"
   ]
  },
  {
   "cell_type": "code",
   "execution_count": null,
   "id": "4b66b483-bad4-4725-87aa-c6c6ff3cd826",
   "metadata": {
    "editable": true,
    "slideshow": {
     "slide_type": ""
    },
    "tags": []
   },
   "outputs": [],
   "source": [
    "# import and instantiate a Score\n",
    "from supriya import Score\n",
    "\n",
    "(score := Score())"
   ]
  },
  {
   "cell_type": "code",
   "execution_count": null,
   "id": "766b9127-6c9c-4e34-a06c-bc601d0f22fd",
   "metadata": {
    "editable": true,
    "slideshow": {
     "slide_type": ""
    },
    "tags": []
   },
   "outputs": [],
   "source": [
    "# inspect the score's namespace\n",
    "# note: no queries, only mutations\n",
    "[name for name in dir(score) if not name.startswith(\"_\")]"
   ]
  },
  {
   "cell_type": "code",
   "execution_count": null,
   "id": "24f49ba2-1ec7-43d1-9915-c6e5afeab220",
   "metadata": {
    "editable": true,
    "slideshow": {
     "slide_type": "subslide"
    },
    "tags": []
   },
   "outputs": [],
   "source": [
    "# add a synthdef at timestamp 0\n",
    "with score.at(0):\n",
    "    score.add_synthdefs(supriya.default)\n",
    "\n",
    "# strum a series of synths\n",
    "synths = []\n",
    "for i in range(12):\n",
    "    with score.at(i / 4):\n",
    "        frequency = 111 * (i + 1)\n",
    "        synth = score.add_synth(synthdef=supriya.default, frequency=frequency)\n",
    "        synths.append(synth)\n",
    "\n",
    "# free all of them\n",
    "with score.at(4):\n",
    "    for synth in synths:\n",
    "        synth.free()\n",
    "\n",
    "# pad out a no-op while the envelopes decay\n",
    "with score.at(5):\n",
    "    score.do_nothing()"
   ]
  },
  {
   "cell_type": "code",
   "execution_count": null,
   "id": "a82eb2ca-16b7-4b0f-bf2b-a384bb483d75",
   "metadata": {
    "editable": true,
    "slideshow": {
     "slide_type": "subslide"
    },
    "tags": []
   },
   "outputs": [],
   "source": [
    "# play the score (and capture into the notebook)\n",
    "from supriya import play\n",
    "\n",
    "_ = await play(score)"
   ]
  },
  {
   "cell_type": "code",
   "execution_count": null,
   "id": "b29ffd11-d38c-4bdb-a055-a2b2e44d19bc",
   "metadata": {
    "editable": true,
    "slideshow": {
     "slide_type": "subslide"
    },
    "tags": []
   },
   "outputs": [],
   "source": [
    "# or just render the score to disk, returning the path and exit code\n",
    "await score.render()"
   ]
  },
  {
   "cell_type": "code",
   "execution_count": null,
   "id": "86a441f9-e6d7-42ab-b6ff-ef1b1d2b8355",
   "metadata": {
    "editable": true,
    "slideshow": {
     "slide_type": "subslide"
    },
    "tags": []
   },
   "outputs": [],
   "source": [
    "# this will error!\n",
    "# no queries, only mutations\n",
    "with score.at(0):\n",
    "    score.query_tree()"
   ]
  },
  {
   "cell_type": "code",
   "execution_count": null,
   "id": "1263ff3a-3314-4825-a943-1cfc0966363a",
   "metadata": {
    "editable": true,
    "slideshow": {
     "slide_type": "subslide"
    },
    "tags": []
   },
   "outputs": [],
   "source": [
    "# iterate the osc bundles in the score\n",
    "for bundle in score.iterate_osc_bundles():\n",
    "    print(repr(bundle))"
   ]
  },
  {
   "cell_type": "code",
   "execution_count": null,
   "id": "d5d68806-1b50-49fe-ab6b-256fcd417ea0",
   "metadata": {
    "editable": true,
    "slideshow": {
     "slide_type": "subslide"
    },
    "tags": []
   },
   "outputs": [],
   "source": [
    "# but actually we store an intermediate format... requests\n",
    "for bundle in score.iterate_request_bundles():\n",
    "    print(bundle)"
   ]
  },
  {
   "cell_type": "markdown",
   "id": "c9f9e39c-4434-4eb3-82b9-63bab4b2eba2",
   "metadata": {
    "editable": true,
    "slideshow": {
     "slide_type": "slide"
    },
    "tags": []
   },
   "source": [
    "## OSC"
   ]
  },
  {
   "cell_type": "markdown",
   "id": "fe72a17c-7ed1-40e1-8a91-46b7d2cbaaaa",
   "metadata": {
    "editable": true,
    "slideshow": {
     "slide_type": "subslide"
    },
    "tags": []
   },
   "source": [
    "### OSC messages & bundles"
   ]
  },
  {
   "cell_type": "code",
   "execution_count": null,
   "id": "2f4771f5-11e5-4a63-9a0b-d2050e80ca42",
   "metadata": {
    "editable": true,
    "slideshow": {
     "slide_type": ""
    },
    "tags": []
   },
   "outputs": [],
   "source": [
    "from supriya import OscBundle, OscMessage"
   ]
  },
  {
   "cell_type": "code",
   "execution_count": null,
   "id": "e253f8ff-7db6-4592-9b56-75e33e024644",
   "metadata": {
    "editable": true,
    "slideshow": {
     "slide_type": ""
    },
    "tags": []
   },
   "outputs": [],
   "source": [
    "message = OscMessage(\"/this\", \"is\", \"a\", \"message?\", 1, 2.5, False)"
   ]
  },
  {
   "cell_type": "code",
   "execution_count": null,
   "id": "bf8dacfe-8b88-4e6e-976e-1144069e0bdb",
   "metadata": {
    "editable": true,
    "slideshow": {
     "slide_type": ""
    },
    "tags": []
   },
   "outputs": [],
   "source": [
    "# print the interpretation representation\n",
    "print(repr(message))"
   ]
  },
  {
   "cell_type": "code",
   "execution_count": null,
   "id": "4f5c9d67-10e4-4ec9-85cc-f1b9e4c02578",
   "metadata": {
    "editable": true,
    "slideshow": {
     "slide_type": "subslide"
    },
    "tags": []
   },
   "outputs": [],
   "source": [
    "# print the sclang-style hex representation\n",
    "print(message)"
   ]
  },
  {
   "cell_type": "code",
   "execution_count": null,
   "id": "8bf906fc-69f9-464d-a4b0-85dd06a39c86",
   "metadata": {
    "editable": true,
    "slideshow": {
     "slide_type": ""
    },
    "tags": []
   },
   "outputs": [],
   "source": [
    "bundle = OscBundle(timestamp=666.23, contents=[message, message])"
   ]
  },
  {
   "cell_type": "code",
   "execution_count": null,
   "id": "5473f085-5ebd-4697-a7dc-c454b47813d5",
   "metadata": {
    "editable": true,
    "slideshow": {
     "slide_type": ""
    },
    "tags": []
   },
   "outputs": [],
   "source": [
    "# print the interpretation representation\n",
    "print(repr(bundle))"
   ]
  },
  {
   "cell_type": "code",
   "execution_count": null,
   "id": "16ea402e-a6cf-41a3-9165-ee595d11df0e",
   "metadata": {
    "editable": true,
    "slideshow": {
     "slide_type": ""
    },
    "tags": []
   },
   "outputs": [],
   "source": [
    "# print the sclang-style hex representation\n",
    "print(bundle)"
   ]
  },
  {
   "cell_type": "markdown",
   "id": "583e4a52-00ee-47ea-ba4c-9109353d5df0",
   "metadata": {
    "editable": true,
    "slideshow": {
     "slide_type": "subslide"
    },
    "tags": []
   },
   "source": [
    "### Sending messages"
   ]
  },
  {
   "cell_type": "code",
   "execution_count": null,
   "id": "b280fa16-f672-4ad8-94b1-fa2b00ced4cd",
   "metadata": {
    "editable": true,
    "slideshow": {
     "slide_type": ""
    },
    "tags": []
   },
   "outputs": [],
   "source": [
    "server.send([\"/g_queryTree\", 0])"
   ]
  },
  {
   "cell_type": "markdown",
   "id": "55add245-7ad2-44f7-846c-b7a41944f62e",
   "metadata": {
    "editable": true,
    "slideshow": {
     "slide_type": "subslide"
    },
    "tags": []
   },
   "source": [
    "### OSC Callbacks"
   ]
  },
  {
   "cell_type": "code",
   "execution_count": null,
   "id": "b368c03c-ab23-44e4-ac1f-edb1766b6434",
   "metadata": {
    "editable": true,
    "slideshow": {
     "slide_type": ""
    },
    "tags": []
   },
   "outputs": [],
   "source": [
    "captured_messages = []\n",
    "\n",
    "\n",
    "def procedure(message):\n",
    "    captured_messages.append(message)\n",
    "\n",
    "\n",
    "print(\n",
    "    callback := server.register_osc_callback(\n",
    "        procedure=procedure, pattern=[\"/g_queryTree.reply\"]\n",
    "    )\n",
    ")"
   ]
  },
  {
   "cell_type": "code",
   "execution_count": null,
   "id": "ea0f883b-3c86-4a97-af86-b7b1fb24ce77",
   "metadata": {
    "editable": true,
    "slideshow": {
     "slide_type": ""
    },
    "tags": []
   },
   "outputs": [],
   "source": [
    "server.send([\"/g_queryTree\", 0])"
   ]
  },
  {
   "cell_type": "code",
   "execution_count": null,
   "id": "619b8f3d-e36e-437d-ba03-ade57b77fced",
   "metadata": {
    "editable": true,
    "slideshow": {
     "slide_type": ""
    },
    "tags": []
   },
   "outputs": [],
   "source": [
    "captured_messages"
   ]
  },
  {
   "cell_type": "code",
   "execution_count": null,
   "id": "ff73664d-1c25-413e-9c32-fbbaa6757435",
   "metadata": {
    "editable": true,
    "slideshow": {
     "slide_type": ""
    },
    "tags": []
   },
   "outputs": [],
   "source": [
    "server.unregister_osc_callback(callback)"
   ]
  },
  {
   "cell_type": "markdown",
   "id": "a7cfb699-344e-4462-89ab-fd3060431ef9",
   "metadata": {
    "editable": true,
    "slideshow": {
     "slide_type": "subslide"
    },
    "tags": []
   },
   "source": [
    "### Capturing IO"
   ]
  },
  {
   "cell_type": "code",
   "execution_count": null,
   "id": "dae6aeed-0273-44b5-8244-02a1b01f2d17",
   "metadata": {
    "editable": true,
    "slideshow": {
     "slide_type": ""
    },
    "tags": []
   },
   "outputs": [],
   "source": [
    "# OSC is actually handled by a \"protocol\" class\n",
    "server.osc_protocol"
   ]
  },
  {
   "cell_type": "code",
   "execution_count": null,
   "id": "2e2c7450-c0b3-410a-89f4-c2da9156d325",
   "metadata": {
    "editable": true,
    "slideshow": {
     "slide_type": ""
    },
    "tags": []
   },
   "outputs": [],
   "source": [
    "with server.osc_protocol.capture() as transcript:\n",
    "    with server.at() as moment:\n",
    "        group = server.add_group()\n",
    "        subgroup = group.add_group()\n",
    "        with server.add_synthdefs(supriya.default) as completion:\n",
    "            synth = subgroup.add_synth(synthdef=supriya.default, frequency=666)\n",
    "    server.sync()"
   ]
  },
  {
   "cell_type": "code",
   "execution_count": null,
   "id": "c3885b2d-4b30-4463-98ee-5b22cf384af6",
   "metadata": {
    "editable": true,
    "slideshow": {
     "slide_type": ""
    },
    "tags": []
   },
   "outputs": [],
   "source": [
    "for entry in transcript:\n",
    "    print(entry)"
   ]
  },
  {
   "cell_type": "code",
   "execution_count": null,
   "id": "053715e2-14af-4d8b-ba36-2022a4c3ae13",
   "metadata": {
    "editable": true,
    "slideshow": {
     "slide_type": ""
    },
    "tags": []
   },
   "outputs": [],
   "source": [
    "# the raw message is something else... an intermediate format\n",
    "transcript[0].raw_message"
   ]
  },
  {
   "cell_type": "code",
   "execution_count": null,
   "id": "cb20f252-f53d-4282-890f-7599381636af",
   "metadata": {
    "editable": true,
    "slideshow": {
     "slide_type": ""
    },
    "tags": []
   },
   "outputs": [],
   "source": [
    "moment"
   ]
  },
  {
   "cell_type": "code",
   "execution_count": null,
   "id": "a7579b4f-855f-47d7-a8ac-06646433bf52",
   "metadata": {
    "editable": true,
    "slideshow": {
     "slide_type": ""
    },
    "tags": []
   },
   "outputs": [],
   "source": [
    "completion"
   ]
  },
  {
   "cell_type": "code",
   "execution_count": null,
   "id": "7a9a3994-86fa-4be5-88e6-4c7e049cf989",
   "metadata": {},
   "outputs": [],
   "source": [
    "server.quit()"
   ]
  },
  {
   "cell_type": "markdown",
   "id": "aa17ef9d-f1ce-4848-bdc1-d20186f0ddde",
   "metadata": {
    "editable": true,
    "slideshow": {
     "slide_type": "slide"
    },
    "tags": []
   },
   "source": [
    "## Asyncio"
   ]
  },
  {
   "cell_type": "markdown",
   "id": "a4d134c4-7f89-408b-ade6-c720218292ae",
   "metadata": {
    "editable": true,
    "jp-MarkdownHeadingCollapsed": true,
    "slideshow": {
     "slide_type": ""
    },
    "tags": []
   },
   "source": [
    "from https://docs.python.org/3/library/asyncio.html:\n",
    "\n",
    "> asyncio is a library to write concurrent code using the async/await syntax.\n",
    "\n",
    "> asyncio is used as a foundation for multiple Python asynchronous frameworks that provide high-performance network and web-servers, database connection libraries, distributed task queues, etc.\n",
    "\n",
    "> asyncio is often a perfect fit for IO-bound and high-level structured network code."
   ]
  },
  {
   "cell_type": "code",
   "execution_count": null,
   "id": "b74ad652-0512-4de6-a30e-8f3377fda739",
   "metadata": {
    "editable": true,
    "slideshow": {
     "slide_type": "subslide"
    },
    "tags": []
   },
   "outputs": [],
   "source": [
    "from supriya import AsyncServer\n",
    "\n",
    "async_server = AsyncServer()"
   ]
  },
  {
   "cell_type": "code",
   "execution_count": null,
   "id": "72c8a340-632b-426d-be0e-f33ec3420e7c",
   "metadata": {
    "editable": true,
    "slideshow": {
     "slide_type": ""
    },
    "tags": []
   },
   "outputs": [],
   "source": [
    "async def on_boot(event):\n",
    "    with async_server.at():\n",
    "        group = async_server.add_group()\n",
    "        with async_server.add_synthdefs(supriya.default):\n",
    "            _ = group.add_synth(synthdef=supriya.default, frequency=123)\n",
    "    await async_server.sync()"
   ]
  },
  {
   "cell_type": "code",
   "execution_count": null,
   "id": "96d3bcee-fe7f-412f-959f-8466d0e6f2a4",
   "metadata": {
    "editable": true,
    "slideshow": {
     "slide_type": ""
    },
    "tags": []
   },
   "outputs": [],
   "source": [
    "async_server.register_lifecycle_callback(\"booted\", on_boot)"
   ]
  },
  {
   "cell_type": "code",
   "execution_count": null,
   "id": "95f02edb-fd08-450a-a29a-71b7f205543a",
   "metadata": {
    "editable": true,
    "slideshow": {
     "slide_type": "subslide"
    },
    "tags": []
   },
   "outputs": [],
   "source": [
    "# start to boot the server, using a random free port\n",
    "from supriya import find_free_port\n",
    "\n",
    "# the result of this is actually a coroutine: nothing has really run yet\n",
    "(coro := async_server.boot(port=find_free_port()))"
   ]
  },
  {
   "cell_type": "code",
   "execution_count": null,
   "id": "d046b21d-775f-47c3-9f86-362ab7203c7b",
   "metadata": {
    "editable": true,
    "slideshow": {
     "slide_type": "subslide"
    },
    "tags": []
   },
   "outputs": [],
   "source": [
    "# once we await the coroutine, we're golden\n",
    "await coro"
   ]
  },
  {
   "cell_type": "code",
   "execution_count": null,
   "id": "fe7549f3-79b4-443b-8d41-69e40cdbd409",
   "metadata": {
    "editable": true,
    "slideshow": {
     "slide_type": ""
    },
    "tags": []
   },
   "outputs": [],
   "source": [
    "# async servers require async queries\n",
    "print(await async_server.query_tree())"
   ]
  },
  {
   "cell_type": "code",
   "execution_count": null,
   "id": "c028e705-4e0f-4096-b7a6-4e94ff4d3683",
   "metadata": {
    "editable": true,
    "slideshow": {
     "slide_type": ""
    },
    "tags": []
   },
   "outputs": [],
   "source": [
    "# and now we can quit (asynchronously of course)\n",
    "await async_server.quit()"
   ]
  },
  {
   "cell_type": "code",
   "execution_count": null,
   "id": "d8ccb069-50ca-45b3-942f-4d410c9d91d2",
   "metadata": {
    "editable": true,
    "slideshow": {
     "slide_type": ""
    },
    "tags": []
   },
   "outputs": [],
   "source": [
    "# there are async clocks too!\n",
    "from supriya import AsyncClock, AsyncOfflineClock, OfflineClock  # noqa: F401"
   ]
  },
  {
   "cell_type": "markdown",
   "id": "a7c8b771-354c-4da8-9cbb-04353cd12b31",
   "metadata": {
    "editable": true,
    "slideshow": {
     "slide_type": "slide"
    },
    "tags": []
   },
   "source": [
    "## Contexts"
   ]
  },
  {
   "cell_type": "markdown",
   "id": "75edf3ff-fd00-4e32-a02c-379fbb516b75",
   "metadata": {
    "editable": true,
    "jp-MarkdownHeadingCollapsed": true,
    "slideshow": {
     "slide_type": ""
    },
    "tags": []
   },
   "source": [
    "- Mutation interface (all contexts)\n",
    "- Query interface (realtime only)\n",
    "- Mutations are realtime/nonrealtime agnostic\n",
    "- Mutations are concurrency agnostic (\".send()\" is _always_ sync)\n",
    "- We can write code targeted against \"Context\" regardless of what kind"
   ]
  },
  {
   "cell_type": "markdown",
   "id": "dd384ecb-d1db-4ae8-9ab0-456134ef2eae",
   "metadata": {
    "editable": true,
    "slideshow": {
     "slide_type": "slide"
    },
    "tags": []
   },
   "source": [
    "## Synthdefs"
   ]
  },
  {
   "cell_type": "markdown",
   "id": "007e03f0-66a8-412d-8097-267e044d1fd0",
   "metadata": {
    "editable": true,
    "slideshow": {
     "slide_type": "subslide"
    },
    "tags": []
   },
   "source": [
    "### Building SynthDefs (1)"
   ]
  },
  {
   "cell_type": "code",
   "execution_count": null,
   "id": "2b2fd4a9-f446-4bf8-a9f2-9882a2ef0fdc",
   "metadata": {
    "editable": true,
    "slideshow": {
     "slide_type": ""
    },
    "tags": []
   },
   "outputs": [],
   "source": [
    "r\"\"\"\n",
    "SynthDef(\\simple, { arg out=0, freq=440;\n",
    "    Out.ar(out, SinOsc.ar(freq));\n",
    "});\n",
    "\"\"\""
   ]
  },
  {
   "cell_type": "code",
   "execution_count": null,
   "id": "5931fb16-baa3-470f-81b5-358ae0643c36",
   "metadata": {
    "editable": true,
    "slideshow": {
     "slide_type": ""
    },
    "tags": []
   },
   "outputs": [],
   "source": [
    "# A simple SynthDef using the builder pattern\n",
    "from supriya.ugens import Out, SinOsc, SynthDefBuilder\n",
    "\n",
    "with SynthDefBuilder(freq=440, out=0) as builder:\n",
    "    source = SinOsc.ar(frequency=builder[\"freq\"])\n",
    "    Out.ar(bus=builder[\"out\"], source=source)\n",
    "\n",
    "(simple_synthdef := builder.build(name=\"simple\"))"
   ]
  },
  {
   "cell_type": "markdown",
   "id": "143a4757-cffb-47e5-b746-ee1dc1453e29",
   "metadata": {
    "editable": true,
    "slideshow": {
     "slide_type": "subslide"
    },
    "tags": []
   },
   "source": [
    "### Graphing SynthDefs"
   ]
  },
  {
   "cell_type": "code",
   "execution_count": null,
   "id": "7e851c28-ad58-45a7-9ef4-4195d2eaca1d",
   "metadata": {
    "editable": true,
    "slideshow": {
     "slide_type": ""
    },
    "tags": []
   },
   "outputs": [],
   "source": [
    "# a YAML-like textual representation\n",
    "# this is useful for unit tests!\n",
    "print(simple_synthdef)"
   ]
  },
  {
   "cell_type": "code",
   "execution_count": null,
   "id": "7e42731b-686a-4262-90a1-f0d7d85f8159",
   "metadata": {
    "editable": true,
    "slideshow": {
     "slide_type": ""
    },
    "tags": []
   },
   "outputs": [],
   "source": [
    "# a GraphViz representation\n",
    "from supriya import graph\n",
    "\n",
    "_ = graph(simple_synthdef)"
   ]
  },
  {
   "cell_type": "markdown",
   "id": "a95788b3-a201-4e62-86a6-7c2df5a0e526",
   "metadata": {
    "editable": true,
    "slideshow": {
     "slide_type": "subslide"
    },
    "tags": []
   },
   "source": [
    "### SynthDef miscellany"
   ]
  },
  {
   "cell_type": "code",
   "execution_count": null,
   "id": "81f9ed16-ba6e-4267-b4ba-57c97c37b94a",
   "metadata": {
    "editable": true,
    "slideshow": {
     "slide_type": ""
    },
    "tags": []
   },
   "outputs": [],
   "source": [
    "dir(simple_synthdef)"
   ]
  },
  {
   "cell_type": "code",
   "execution_count": null,
   "id": "47dfa194-c1fb-4144-ae32-dd78e4d06137",
   "metadata": {
    "editable": true,
    "slideshow": {
     "slide_type": "subslide"
    },
    "tags": []
   },
   "outputs": [],
   "source": [
    "simple_synthdef.name"
   ]
  },
  {
   "cell_type": "code",
   "execution_count": null,
   "id": "c09ba865-5d51-4b5b-88fb-e8358e8ad029",
   "metadata": {
    "editable": true,
    "slideshow": {
     "slide_type": ""
    },
    "tags": []
   },
   "outputs": [],
   "source": [
    "simple_synthdef.anonymous_name"
   ]
  },
  {
   "cell_type": "code",
   "execution_count": null,
   "id": "7267e7d2-8ae4-47b9-94c3-46cfd3cabd27",
   "metadata": {
    "editable": true,
    "slideshow": {
     "slide_type": ""
    },
    "tags": []
   },
   "outputs": [],
   "source": [
    "simple_synthdef.effective_name"
   ]
  },
  {
   "cell_type": "code",
   "execution_count": null,
   "id": "6a07265a-0e02-4d0c-8994-e23653177917",
   "metadata": {
    "editable": true,
    "slideshow": {
     "slide_type": ""
    },
    "tags": []
   },
   "outputs": [],
   "source": [
    "simple_synthdef.parameters"
   ]
  },
  {
   "cell_type": "code",
   "execution_count": null,
   "id": "fbebbc80-2960-4997-a17b-5249d1cc749d",
   "metadata": {
    "editable": true,
    "slideshow": {
     "slide_type": ""
    },
    "tags": []
   },
   "outputs": [],
   "source": [
    "simple_synthdef.ugens"
   ]
  },
  {
   "cell_type": "code",
   "execution_count": null,
   "id": "7808cad7-fd9f-47cc-a75e-3c2b287d8db4",
   "metadata": {
    "editable": true,
    "slideshow": {
     "slide_type": ""
    },
    "tags": []
   },
   "outputs": [],
   "source": [
    "simple_synthdef.has_gate"
   ]
  },
  {
   "cell_type": "markdown",
   "id": "4628ebb4-f952-44b3-bf79-a036bd81aa8b",
   "metadata": {
    "editable": true,
    "slideshow": {
     "slide_type": "subslide"
    },
    "tags": []
   },
   "source": [
    "### Building SynthDefs (2)"
   ]
  },
  {
   "cell_type": "code",
   "execution_count": null,
   "id": "1e48df14-8bb3-4d2d-ab7c-2dad19fbad95",
   "metadata": {
    "editable": true,
    "slideshow": {
     "slide_type": ""
    },
    "tags": []
   },
   "outputs": [],
   "source": [
    "# this is the \"default\" synthdef as implemented in sclang\n",
    "r\"\"\"\n",
    "*makeDefaultSynthDef {\n",
    "    SynthDef(\\default, { arg out=0, freq=440, amp=0.1, pan=0, gate=1;\n",
    "        var z;\n",
    "        z = LPF.ar(\n",
    "            Mix.new(VarSaw.ar(freq + [0, Rand(-0.4,0.0), Rand(0.0,0.4)], 0, 0.3, 0.3)),\n",
    "            XLine.kr(Rand(4000,5000), Rand(2500,3200), 1)\n",
    "        ) * Linen.kr(gate, 0.01, 0.7, 0.3, 2);\n",
    "        OffsetOut.ar(out, Pan2.ar(z, pan, amp));\n",
    "    }, [\\ir]).add;\n",
    "}\n",
    "\"\"\""
   ]
  },
  {
   "cell_type": "code",
   "execution_count": null,
   "id": "ba705c99-191c-452c-8be9-3c7a20eb2d4a",
   "metadata": {
    "editable": true,
    "slideshow": {
     "slide_type": "subslide"
    },
    "tags": []
   },
   "outputs": [],
   "source": [
    "# more imports\n",
    "from supriya.enums import DoneAction, ParameterRate\n",
    "from supriya.ugens import (\n",
    "    LPF,\n",
    "    Linen,\n",
    "    Mix,\n",
    "    OffsetOut,\n",
    "    Pan2,\n",
    "    Parameter,\n",
    "    Rand,\n",
    "    SynthDefBuilder,\n",
    "    VarSaw,\n",
    "    XLine,\n",
    ")"
   ]
  },
  {
   "cell_type": "code",
   "execution_count": null,
   "id": "4a60c510-1184-4bf9-8909-2d6e68e0159d",
   "metadata": {
    "editable": true,
    "slideshow": {
     "slide_type": "subslide"
    },
    "tags": []
   },
   "outputs": [],
   "source": [
    "# define a builder\n",
    "builder = SynthDefBuilder(\n",
    "    out=Parameter(rate=ParameterRate.SCALAR, value=0),\n",
    "    amplitude=0.1,\n",
    "    frequency=440,\n",
    "    gate=1,\n",
    "    pan=0.5,\n",
    ")"
   ]
  },
  {
   "cell_type": "code",
   "execution_count": null,
   "id": "2e915b52-92a3-4793-a1c4-e53c7db30d20",
   "metadata": {
    "editable": true,
    "slideshow": {
     "slide_type": ""
    },
    "tags": []
   },
   "outputs": [],
   "source": [
    "# use the builder as a context manager\n",
    "with builder:\n",
    "    linen = Linen.kr(\n",
    "        attack_time=0.01,\n",
    "        done_action=DoneAction.FREE_SYNTH,\n",
    "        gate=builder[\"gate\"],\n",
    "        release_time=0.3,\n",
    "        sustain_level=0.7,\n",
    "    )"
   ]
  },
  {
   "cell_type": "code",
   "execution_count": null,
   "id": "f6822520-08df-4006-974b-6ab63825b604",
   "metadata": {
    "editable": true,
    "slideshow": {
     "slide_type": "subslide"
    },
    "tags": []
   },
   "outputs": [],
   "source": [
    "# use the builder again\n",
    "with builder:\n",
    "    low_pass = LPF.ar(\n",
    "        source=Mix.new(\n",
    "            VarSaw.ar(\n",
    "                frequency=builder[\"frequency\"]\n",
    "                + (\n",
    "                    0,\n",
    "                    Rand.ir(minimum=-0.4, maximum=0.0),\n",
    "                    Rand.ir(minimum=0.0, maximum=0.4),\n",
    "                ),\n",
    "                width=0.3,\n",
    "            )\n",
    "        )\n",
    "        * 0.3,\n",
    "        frequency=XLine.kr(\n",
    "            start=Rand.ir(minimum=4000, maximum=5000),\n",
    "            stop=Rand.ir(minimum=2500, maximum=3200),\n",
    "        ),\n",
    "    )"
   ]
  },
  {
   "cell_type": "code",
   "execution_count": null,
   "id": "4232f767-0c33-452e-a7ee-cf7de097aa18",
   "metadata": {
    "editable": true,
    "slideshow": {
     "slide_type": "subslide"
    },
    "tags": []
   },
   "outputs": [],
   "source": [
    "# and again\n",
    "with builder:\n",
    "    panner = Pan2.ar(\n",
    "        source=low_pass * linen * builder[\"amplitude\"], position=builder[\"pan\"]\n",
    "    )"
   ]
  },
  {
   "cell_type": "code",
   "execution_count": null,
   "id": "ece2c2f8-a197-4068-a921-61c518f42531",
   "metadata": {
    "editable": true,
    "slideshow": {
     "slide_type": ""
    },
    "tags": []
   },
   "outputs": [],
   "source": [
    "# and again and again\n",
    "with builder:\n",
    "    OffsetOut.ar(bus=builder[\"out\"], source=panner)"
   ]
  },
  {
   "cell_type": "code",
   "execution_count": null,
   "id": "142a9252-ec14-4027-a54f-aac0f0a4bb2f",
   "metadata": {
    "editable": true,
    "slideshow": {
     "slide_type": ""
    },
    "tags": []
   },
   "outputs": [],
   "source": [
    "(default := builder.build(name=\"default\"))"
   ]
  },
  {
   "cell_type": "code",
   "execution_count": null,
   "id": "d5d9622b-b681-4905-a38b-c74136dc2061",
   "metadata": {
    "editable": true,
    "slideshow": {
     "slide_type": "subslide"
    },
    "tags": []
   },
   "outputs": [],
   "source": [
    "_ = graph(default)"
   ]
  },
  {
   "cell_type": "markdown",
   "id": "20bdb140-4fd0-4525-993a-d555cb910464",
   "metadata": {
    "editable": true,
    "slideshow": {
     "slide_type": "subslide"
    },
    "tags": []
   },
   "source": [
    "### The `synthdef` decorator"
   ]
  },
  {
   "cell_type": "code",
   "execution_count": null,
   "id": "c3794ac8-591d-40a5-bc44-26292b7010c8",
   "metadata": {
    "editable": true,
    "slideshow": {
     "slide_type": ""
    },
    "tags": []
   },
   "outputs": [],
   "source": [
    "# n.b. I'm not fond of this one because of\n",
    "# a) how magical it is (not very, but just enough) but mainly because\n",
    "# b) it makes type-checking difficult\n",
    "# why difficult? the types of the keyword arguments aren't the same\n",
    "# as the types of the values as they actually appear inside the function\n",
    "# when executed at runtime. i can manage this with a mypy plugin,\n",
    "# but that's just more work for me.\n",
    "from supriya.ugens import synthdef"
   ]
  },
  {
   "cell_type": "code",
   "execution_count": null,
   "id": "4490ae60-0c93-4afe-9f3b-7058f5c4edcf",
   "metadata": {
    "editable": true,
    "slideshow": {
     "slide_type": "subslide"
    },
    "tags": []
   },
   "outputs": [],
   "source": [
    "@synthdef(\"ir\")\n",
    "def default_decorated(out=0, amplitude=0.1, frequency=440, gate=1, pan=0.5):\n",
    "    linen = Linen.kr(\n",
    "        attack_time=0.01,\n",
    "        done_action=DoneAction.FREE_SYNTH,\n",
    "        gate=gate,\n",
    "        release_time=0.3,\n",
    "        sustain_level=0.7,\n",
    "    )\n",
    "    low_pass = LPF.ar(\n",
    "        source=Mix.new(\n",
    "            VarSaw.ar(\n",
    "                frequency=frequency\n",
    "                + (\n",
    "                    0,\n",
    "                    Rand.ir(minimum=-0.4, maximum=0.0),\n",
    "                    Rand.ir(minimum=0.0, maximum=0.4),\n",
    "                ),\n",
    "                width=0.3,\n",
    "            )\n",
    "        )\n",
    "        * 0.3,\n",
    "        frequency=XLine.kr(\n",
    "            start=Rand.ir(minimum=4000, maximum=5000),\n",
    "            stop=Rand.ir(minimum=2500, maximum=3200),\n",
    "        ),\n",
    "    )\n",
    "    panner = Pan2.ar(source=low_pass * linen * amplitude, position=pan)\n",
    "    _ = OffsetOut.ar(bus=out, source=panner)"
   ]
  },
  {
   "cell_type": "code",
   "execution_count": null,
   "id": "3c0aa754-4630-40be-8e85-4240fc0434cb",
   "metadata": {
    "editable": true,
    "slideshow": {
     "slide_type": "subslide"
    },
    "tags": []
   },
   "outputs": [],
   "source": [
    "default_decorated"
   ]
  },
  {
   "cell_type": "code",
   "execution_count": null,
   "id": "52c6d138-5717-4dff-9779-249a818fe38d",
   "metadata": {
    "editable": true,
    "slideshow": {
     "slide_type": "subslide"
    },
    "tags": []
   },
   "outputs": [],
   "source": [
    "# why joséphine hates @synthdef()...\n",
    "# the parameters in the decorated signature\n",
    "# are not the same time as when executed at runtime\n",
    "from supriya.ugens import Out, SinOsc\n",
    "\n",
    "\n",
    "@synthdef()\n",
    "def foo(out=0):\n",
    "    print(f\"out isn't an integer, it's actually {out!r}\")\n",
    "    _ = Out.ar(source=SinOsc.kr())"
   ]
  },
  {
   "cell_type": "markdown",
   "id": "c393f491-8cb3-4426-9ca4-8d4d903f2df1",
   "metadata": {
    "editable": true,
    "slideshow": {
     "slide_type": "subslide"
    },
    "tags": []
   },
   "source": [
    "### UGen methods"
   ]
  },
  {
   "cell_type": "code",
   "execution_count": null,
   "id": "63f818c1-7a09-481f-bdbd-8490aeedb288",
   "metadata": {
    "editable": true,
    "slideshow": {
     "slide_type": ""
    },
    "tags": []
   },
   "outputs": [],
   "source": [
    "dir(SinOsc)"
   ]
  },
  {
   "cell_type": "markdown",
   "id": "18e73fae-0b42-4416-9323-42dbc2d5dd3e",
   "metadata": {
    "editable": true,
    "slideshow": {
     "slide_type": "subslide"
    },
    "tags": []
   },
   "source": [
    "### SynthDef (de)compilation"
   ]
  },
  {
   "cell_type": "code",
   "execution_count": null,
   "id": "ca4c4b2a-adfc-4692-9eaa-8a26339d8084",
   "metadata": {
    "editable": true,
    "slideshow": {
     "slide_type": ""
    },
    "tags": []
   },
   "outputs": [],
   "source": [
    "# SynthDefs compile to byte strings\n",
    "(compiled := default.compile())"
   ]
  },
  {
   "cell_type": "code",
   "execution_count": null,
   "id": "84c03b76-3600-4cb7-b016-707f1dac39a8",
   "metadata": {
    "editable": true,
    "slideshow": {
     "slide_type": "subslide"
    },
    "tags": []
   },
   "outputs": [],
   "source": [
    "# valid byte strings can be decompiled back into SynthDefs\n",
    "from supriya.ugens import decompile_synthdef\n",
    "\n",
    "(decompiled := decompile_synthdef(compiled))"
   ]
  },
  {
   "cell_type": "code",
   "execution_count": null,
   "id": "21078364-74c2-4465-aa05-8e6fec07088f",
   "metadata": {},
   "outputs": [],
   "source": [
    "# sanity-check: the decompiled SynthDef is not the same in memory\n",
    "default is decompiled"
   ]
  },
  {
   "cell_type": "markdown",
   "id": "2c356ad2-8306-4d15-b201-b5792d230098",
   "metadata": {
    "editable": true,
    "slideshow": {
     "slide_type": "subslide"
    },
    "tags": []
   },
   "source": [
    "### Compiling via sclang"
   ]
  },
  {
   "cell_type": "code",
   "execution_count": null,
   "id": "c90858c7-0f0a-4cd9-a85f-18980f97517a",
   "metadata": {
    "editable": true,
    "slideshow": {
     "slide_type": ""
    },
    "tags": []
   },
   "outputs": [],
   "source": [
    "# Supriya provides utilities for compiling via sclang.\n",
    "# This is intended for validating its own logic vs sclang (as a reference spec).\n",
    "from supriya.ugens import SuperColliderSynthDef\n",
    "\n",
    "sc_synthdef = SuperColliderSynthDef(\n",
    "    \"foo\", \"Out.ar(0, SinOsc.ar(freq: 420) * SinOsc.ar(freq: 440))\"\n",
    ")\n",
    "(sc_compiled_synthdef := sc_synthdef.compile())"
   ]
  },
  {
   "cell_type": "code",
   "execution_count": null,
   "id": "90962a31-f35a-4119-a945-4e8138c1cc6e",
   "metadata": {
    "editable": true,
    "slideshow": {
     "slide_type": "subslide"
    },
    "tags": []
   },
   "outputs": [],
   "source": [
    "# The sclang-derived SynthDef byte string can be decompiled back into a SynthDef.\n",
    "print(decompile_synthdef(sc_compiled_synthdef))"
   ]
  },
  {
   "cell_type": "markdown",
   "id": "65d70319-76c1-4467-956f-d211fd1311a6",
   "metadata": {
    "editable": true,
    "slideshow": {
     "slide_type": "subslide"
    },
    "tags": []
   },
   "source": [
    "### UGen metaprogramming"
   ]
  },
  {
   "cell_type": "code",
   "execution_count": null,
   "id": "c5ccef16-089c-439d-8648-6c56d883d78f",
   "metadata": {
    "editable": true,
    "slideshow": {
     "slide_type": ""
    },
    "tags": []
   },
   "outputs": [],
   "source": [
    "from supriya.ugens import UGen, param, ugen\n",
    "\n",
    "\n",
    "# A dupe of SinOsc\n",
    "@ugen(ar=True, kr=True, is_pure=True)\n",
    "class AnotherSinOsc(UGen):\n",
    "    frequency = param(440.0)\n",
    "    phase = param(0.0)"
   ]
  },
  {
   "cell_type": "code",
   "execution_count": null,
   "id": "d851e53c-0acf-47a5-81ee-b167441fa2fc",
   "metadata": {},
   "outputs": [],
   "source": [
    "AnotherSinOsc.ar()"
   ]
  },
  {
   "cell_type": "code",
   "execution_count": null,
   "id": "8652301f-40db-4e83-b035-f03802566ebe",
   "metadata": {},
   "outputs": [],
   "source": [
    "AnotherSinOsc.kr()"
   ]
  },
  {
   "cell_type": "code",
   "execution_count": null,
   "id": "ff77b258-dd6b-4b31-80a2-750a825ae4ee",
   "metadata": {
    "editable": true,
    "slideshow": {
     "slide_type": ""
    },
    "tags": []
   },
   "outputs": [],
   "source": [
    "# This won't work because ir=True wasn't set\n",
    "AnotherSinOsc.ir()"
   ]
  },
  {
   "cell_type": "code",
   "execution_count": null,
   "id": "26407a5a-aeed-4af0-a93e-af25245755c0",
   "metadata": {
    "editable": true,
    "slideshow": {
     "slide_type": "subslide"
    },
    "tags": []
   },
   "outputs": [],
   "source": [
    "# A dupe of Out\n",
    "@ugen(ar=True, kr=True, is_output=True, channel_count=0, fixed_channel_count=True)\n",
    "class AnotherOut(UGen):\n",
    "    bus = param(0)\n",
    "    source = param(unexpanded=True)\n",
    "\n",
    "\n",
    "AnotherOut.ar(source=AnotherSinOsc.ar())"
   ]
  },
  {
   "cell_type": "code",
   "execution_count": null,
   "id": "180c7e5c-42cf-4e9c-9f46-70d3be964a97",
   "metadata": {
    "editable": true,
    "slideshow": {
     "slide_type": "subslide"
    },
    "tags": []
   },
   "outputs": [],
   "source": [
    "from supriya.ugens.pv import PV_ChainUGen\n",
    "\n",
    "\n",
    "# A dupe of PV_BinShift\n",
    "@ugen(kr=True, is_width_first=True)\n",
    "class AnotherPV_BinShift(PV_ChainUGen):\n",
    "    pv_chain = param()\n",
    "    stretch = param(1.0)\n",
    "    shift = param(0.0)\n",
    "    interpolate = param(0)\n",
    "\n",
    "\n",
    "# This won't work because of missing pv_chain argument\n",
    "AnotherPV_BinShift.kr()"
   ]
  },
  {
   "cell_type": "code",
   "execution_count": null,
   "id": "74e46ace-5312-4d22-9d96-ed99a6970761",
   "metadata": {
    "editable": true,
    "slideshow": {
     "slide_type": "subslide"
    },
    "tags": []
   },
   "outputs": [],
   "source": [
    "help(ugen)"
   ]
  },
  {
   "cell_type": "markdown",
   "id": "60997dc9-4c61-47a4-ac63-5ae193a05d40",
   "metadata": {
    "editable": true,
    "slideshow": {
     "slide_type": "slide"
    },
    "tags": []
   },
   "source": [
    "## Clocks"
   ]
  },
  {
   "cell_type": "code",
   "execution_count": null,
   "id": "93430b4f-143c-411a-9944-6d62a69dd2eb",
   "metadata": {
    "editable": true,
    "slideshow": {
     "slide_type": ""
    },
    "tags": []
   },
   "outputs": [],
   "source": [
    "# import Clock and instantiate one\n",
    "from supriya import Clock\n",
    "\n",
    "(clock := Clock())"
   ]
  },
  {
   "cell_type": "code",
   "execution_count": null,
   "id": "51a909a2-c338-4cc6-a23c-eabd94cac2dc",
   "metadata": {},
   "outputs": [],
   "source": [
    "# clocks have bpm tempo\n",
    "clock.beats_per_minute"
   ]
  },
  {
   "cell_type": "code",
   "execution_count": null,
   "id": "178ec109-95b0-4dc5-87ab-dedaef5aa932",
   "metadata": {},
   "outputs": [],
   "source": [
    "# clocks have time signatures!\n",
    "clock.time_signature"
   ]
  },
  {
   "cell_type": "code",
   "execution_count": null,
   "id": "b0334793-fef0-4354-be27-6bea695f7846",
   "metadata": {
    "editable": true,
    "slideshow": {
     "slide_type": "subslide"
    },
    "tags": []
   },
   "outputs": [],
   "source": [
    "# define a simple callback\n",
    "# this will print the \"clock context\"\n",
    "# and return a delta of 1/4 (a quarter note)\n",
    "# and on the 5th invocation will return a null delta, preventing re-scheduling\n",
    "def clock_callback(context):\n",
    "    print(context)\n",
    "    if context.event.invocations == 4:\n",
    "        return None\n",
    "    return 0.25"
   ]
  },
  {
   "cell_type": "code",
   "execution_count": null,
   "id": "c2b2d216-f58f-45a5-aca3-6f1ffdc01a81",
   "metadata": {
    "editable": true,
    "slideshow": {
     "slide_type": "subslide"
    },
    "tags": []
   },
   "outputs": [],
   "source": [
    "# schedule the callback to be run immediately\n",
    "clock.schedule(clock_callback)"
   ]
  },
  {
   "cell_type": "code",
   "execution_count": null,
   "id": "6e45db90-c73d-46dd-b207-4c002439445a",
   "metadata": {},
   "outputs": [],
   "source": [
    "# start the clock\n",
    "clock.start()"
   ]
  },
  {
   "cell_type": "code",
   "execution_count": null,
   "id": "fac66330-fc30-4a61-aad1-01cd5d2e2bb5",
   "metadata": {},
   "outputs": [],
   "source": [
    "# stop the clock\n",
    "clock.stop()"
   ]
  },
  {
   "cell_type": "markdown",
   "id": "f5f4a866-0fd4-460f-9ba7-b3ecf371b0d7",
   "metadata": {
    "editable": true,
    "slideshow": {
     "slide_type": "slide"
    },
    "tags": []
   },
   "source": [
    "## Patterns"
   ]
  },
  {
   "cell_type": "markdown",
   "id": "08330aa4-8ff4-4798-a563-6e5ae042fc06",
   "metadata": {
    "editable": true,
    "slideshow": {
     "slide_type": "subslide"
    },
    "tags": []
   },
   "source": [
    "### Sequence patterns"
   ]
  },
  {
   "cell_type": "code",
   "execution_count": null,
   "id": "e3475778-ef0f-4b46-b3c6-e8cde196ec83",
   "metadata": {
    "editable": true,
    "slideshow": {
     "slide_type": ""
    },
    "tags": []
   },
   "outputs": [],
   "source": [
    "# let's make a \"sequence pattern\", akin to Pseq\n",
    "from supriya.patterns import SequencePattern\n",
    "\n",
    "sequence_pattern = SequencePattern([111, 150, 180], iterations=2)\n",
    "sequence_pattern, sequence_pattern.is_infinite"
   ]
  },
  {
   "cell_type": "code",
   "execution_count": null,
   "id": "59ff9ae1-7c7b-4ea3-893f-5593db48b133",
   "metadata": {
    "editable": true,
    "slideshow": {
     "slide_type": ""
    },
    "tags": []
   },
   "outputs": [],
   "source": [
    "# patterns are iterable, so we can loop over them\n",
    "for x in sequence_pattern:\n",
    "    print(x)"
   ]
  },
  {
   "cell_type": "markdown",
   "id": "91b2175e-fa38-4d67-98d4-e369bdfd4224",
   "metadata": {
    "editable": true,
    "slideshow": {
     "slide_type": "subslide"
    },
    "tags": []
   },
   "source": [
    "### Random patterns"
   ]
  },
  {
   "cell_type": "code",
   "execution_count": null,
   "id": "1e895c97-492f-4a50-8521-4431200b07e4",
   "metadata": {
    "editable": true,
    "slideshow": {
     "slide_type": ""
    },
    "tags": []
   },
   "outputs": [],
   "source": [
    "# let's make a \"random pattern\", akin to Pwhite\n",
    "from supriya.patterns import RandomPattern\n",
    "\n",
    "random_pattern = RandomPattern(-1.0, 1.0)\n",
    "random_pattern, random_pattern.is_infinite  # the pattern is infinite by default"
   ]
  },
  {
   "cell_type": "code",
   "execution_count": null,
   "id": "7ae79e08-a0c8-44c9-b0a3-e1bac2a505c4",
   "metadata": {
    "editable": true,
    "slideshow": {
     "slide_type": ""
    },
    "tags": []
   },
   "outputs": [],
   "source": [
    "# because this pattern is infinite we need to break at some point\n",
    "# we'll use the built-in enumerate() to yield an index we can break on\n",
    "for i, x in enumerate(random_pattern):\n",
    "    print(i, x)\n",
    "    if i == 3:\n",
    "        break"
   ]
  },
  {
   "cell_type": "markdown",
   "id": "cc12f0ae-292e-4bd9-a5e2-62639f506b4a",
   "metadata": {
    "editable": true,
    "slideshow": {
     "slide_type": "subslide"
    },
    "tags": []
   },
   "source": [
    "### Pattern math"
   ]
  },
  {
   "cell_type": "code",
   "execution_count": null,
   "id": "ab1266d7-66e3-4836-bfe3-318ef8253fd0",
   "metadata": {
    "editable": true,
    "slideshow": {
     "slide_type": ""
    },
    "tags": []
   },
   "outputs": [],
   "source": [
    "# let's make some choice patterns, akin to Prand\n",
    "from supriya.patterns import ChoicePattern\n",
    "\n",
    "frequency_pattern = ChoicePattern(\n",
    "    [440, 555, 666, [333.33, 366.66], 345], iterations=None\n",
    ") * ChoicePattern([1, 0.5, 2, 0.25, 4], iterations=None)\n",
    "for i, x in enumerate(frequency_pattern):\n",
    "    print(i, x)\n",
    "    if i == 3:\n",
    "        break"
   ]
  },
  {
   "cell_type": "markdown",
   "id": "fbbab9eb-6f21-4362-a89f-128598e86689",
   "metadata": {
    "editable": true,
    "slideshow": {
     "slide_type": "subslide"
    },
    "tags": []
   },
   "source": [
    "### Event patterns"
   ]
  },
  {
   "cell_type": "code",
   "execution_count": null,
   "id": "a659ed7c-6162-4e05-ae3d-0b897c51cad4",
   "metadata": {
    "editable": true,
    "slideshow": {
     "slide_type": ""
    },
    "tags": []
   },
   "outputs": [],
   "source": [
    "# now create an event pattern, akin to Pbind\n",
    "from supriya.patterns import EventPattern\n",
    "\n",
    "event_pattern = EventPattern(\n",
    "    delta=RandomPattern(0.5, 2),\n",
    "    duration=RandomPattern(0.05, 0.2),\n",
    "    frequency=frequency_pattern,\n",
    "    pan=RandomPattern(-1.0, 1.0),\n",
    "    synthdef=supriya.default,\n",
    ")\n",
    "event_pattern, event_pattern.is_infinite"
   ]
  },
  {
   "cell_type": "code",
   "execution_count": null,
   "id": "fc8d06fe-4d67-4fa9-9655-db0f4bda2981",
   "metadata": {
    "editable": true,
    "slideshow": {
     "slide_type": "subslide"
    },
    "tags": []
   },
   "outputs": [],
   "source": [
    "# event patterns yield events\n",
    "for i, event in enumerate(event_pattern):\n",
    "    print(event)\n",
    "    if i == 3:\n",
    "        break"
   ]
  },
  {
   "cell_type": "markdown",
   "id": "857fd257-5deb-4e2f-a0a9-b3e8593a48ec",
   "metadata": {
    "editable": true,
    "slideshow": {
     "slide_type": "subslide"
    },
    "tags": []
   },
   "source": [
    "### Structural patterns: buses"
   ]
  },
  {
   "cell_type": "code",
   "execution_count": null,
   "id": "f556efa4-8002-4c29-b9e1-73537e2ed4a7",
   "metadata": {
    "editable": true,
    "slideshow": {
     "slide_type": ""
    },
    "tags": []
   },
   "outputs": [],
   "source": [
    "# we can build more complex event patterns\n",
    "# BusPattern (akin to Pbus) will create a private bus, a group, and link synths\n",
    "from supriya.patterns import BusPattern\n",
    "\n",
    "bus_isolated_event_pattern = BusPattern(event_pattern, channel_count=2)"
   ]
  },
  {
   "cell_type": "code",
   "execution_count": null,
   "id": "d7e66a44-327a-4c24-8bd4-ccbce6747b6a",
   "metadata": {
    "editable": true,
    "slideshow": {
     "slide_type": "subslide"
    },
    "tags": []
   },
   "outputs": [],
   "source": [
    "for i, event in enumerate(bus_isolated_event_pattern):\n",
    "    print(event)\n",
    "    if i == 3:\n",
    "        break"
   ]
  },
  {
   "cell_type": "markdown",
   "id": "b9ed7bd2-a2f0-4dc1-a09a-ccfa549c6f90",
   "metadata": {
    "editable": true,
    "slideshow": {
     "slide_type": "subslide"
    },
    "tags": []
   },
   "source": [
    "### Aside: some effects SynthDefs"
   ]
  },
  {
   "cell_type": "code",
   "execution_count": null,
   "id": "8a17a651-fbd5-4638-bec1-edc009f2ee9f",
   "metadata": {
    "editable": true,
    "slideshow": {
     "slide_type": ""
    },
    "tags": []
   },
   "outputs": [],
   "source": [
    "# now let's define a couple synthdefs for fx\n",
    "from supriya.ugens import (\n",
    "    HPF,\n",
    "    AllpassC,\n",
    "    FreeVerb,\n",
    "    In,\n",
    "    LFNoise1,\n",
    "    Linen,\n",
    "    LocalIn,\n",
    "    LocalOut,\n",
    "    ReplaceOut,\n",
    ")"
   ]
  },
  {
   "cell_type": "code",
   "execution_count": null,
   "id": "a0b92279-7125-4c13-9964-4bbd7a73cf45",
   "metadata": {
    "editable": true,
    "slideshow": {
     "slide_type": ""
    },
    "tags": []
   },
   "outputs": [],
   "source": [
    "@synthdef()\n",
    "def delay(out=0, gate=1):\n",
    "    envelope = Linen.kr(gate=gate, release_time=0.25, done_action=2)\n",
    "    source = In.ar(bus=out, channel_count=2)\n",
    "    tap = AllpassC.ar(\n",
    "        source=LocalIn.ar(channel_count=2),\n",
    "        maximum_delay_time=1.0,\n",
    "        delay_time=LFNoise1.kr(frequency=0.05).scale(-1, 1, 0, 1),\n",
    "    )\n",
    "    LocalOut.ar(source=HPF.ar(source=source + tap, frequency=1000) * -0.995)\n",
    "    Out.ar(bus=out, source=tap * envelope)"
   ]
  },
  {
   "cell_type": "code",
   "execution_count": null,
   "id": "a941a9ab-2b11-4697-af1b-0259b1817a51",
   "metadata": {
    "editable": true,
    "slideshow": {
     "slide_type": ""
    },
    "tags": []
   },
   "outputs": [],
   "source": [
    "_ = graph(delay)"
   ]
  },
  {
   "cell_type": "code",
   "execution_count": null,
   "id": "928d120f-7474-46f6-befb-b8b058161ee0",
   "metadata": {
    "editable": true,
    "slideshow": {
     "slide_type": "subslide"
    },
    "tags": []
   },
   "outputs": [],
   "source": [
    "@synthdef()\n",
    "def reverb(out=0, gate=1):\n",
    "    envelope = Linen.kr(gate=gate, release_time=0.25, done_action=2)\n",
    "    source = In.ar(bus=out, channel_count=2)\n",
    "    source = FreeVerb.ar(source=source, mix=0.5, damping=0.5, room_size=0.95)\n",
    "    ReplaceOut.ar(bus=out, source=source * envelope)"
   ]
  },
  {
   "cell_type": "code",
   "execution_count": null,
   "id": "d5b278cd-2242-4df1-b7f1-530213045e16",
   "metadata": {
    "editable": true,
    "slideshow": {
     "slide_type": ""
    },
    "tags": []
   },
   "outputs": [],
   "source": [
    "_ = graph(reverb)"
   ]
  },
  {
   "cell_type": "markdown",
   "id": "de26d300-7292-4678-8825-5460978c537d",
   "metadata": {
    "editable": true,
    "slideshow": {
     "slide_type": "subslide"
    },
    "tags": []
   },
   "source": [
    "### Structural patterns: effects"
   ]
  },
  {
   "cell_type": "code",
   "execution_count": null,
   "id": "28676b8f-4c93-45cf-9872-b2bf98627357",
   "metadata": {
    "editable": true,
    "slideshow": {
     "slide_type": ""
    },
    "tags": []
   },
   "outputs": [],
   "source": [
    "# now some Pfx-type stuff\n",
    "from supriya.patterns import FxPattern\n",
    "\n",
    "bus_isolated_fx_pattern = BusPattern(\n",
    "    FxPattern(event_pattern, synthdef=delay),\n",
    "    channel_count=2,\n",
    ")"
   ]
  },
  {
   "cell_type": "code",
   "execution_count": null,
   "id": "f7cbf990-0a43-4a28-9ca7-ca965703f667",
   "metadata": {
    "editable": true,
    "slideshow": {
     "slide_type": "subslide"
    },
    "tags": []
   },
   "outputs": [],
   "source": [
    "# note the second CompositeEvent, coming from the FxPattern\n",
    "for i, event in enumerate(bus_isolated_fx_pattern):\n",
    "    print(event)\n",
    "    if i == 3:\n",
    "        break"
   ]
  },
  {
   "cell_type": "markdown",
   "id": "1b4deb90-0c88-4f62-ac47-132c11033e30",
   "metadata": {
    "editable": true,
    "slideshow": {
     "slide_type": "subslide"
    },
    "tags": []
   },
   "source": [
    "### Structural patterns: parallelism"
   ]
  },
  {
   "cell_type": "code",
   "execution_count": null,
   "id": "faefa9c9-2725-4483-bd42-e1a95dbc2b68",
   "metadata": {
    "editable": true,
    "slideshow": {
     "slide_type": ""
    },
    "tags": []
   },
   "outputs": [],
   "source": [
    "# now let's do it in parallel, Ppar-style\n",
    "from supriya.patterns import GroupPattern, ParallelPattern\n",
    "\n",
    "final_pattern = BusPattern(\n",
    "    FxPattern(\n",
    "        pattern=GroupPattern(ParallelPattern([bus_isolated_fx_pattern] * 4)),\n",
    "        synthdef=reverb,\n",
    "    ),\n",
    "    channel_count=2,\n",
    ")"
   ]
  },
  {
   "cell_type": "code",
   "execution_count": null,
   "id": "4c145812-5171-4b88-a515-03ab4cedd0bf",
   "metadata": {
    "editable": true,
    "slideshow": {
     "slide_type": "subslide"
    },
    "tags": []
   },
   "outputs": [],
   "source": [
    "for i, event in enumerate(final_pattern):\n",
    "    print(event)\n",
    "    if i == 3:\n",
    "        break"
   ]
  },
  {
   "cell_type": "markdown",
   "id": "96c5c175-72ea-41b2-afcb-c339ed9dc770",
   "metadata": {
    "editable": true,
    "slideshow": {
     "slide_type": "subslide"
    },
    "tags": []
   },
   "source": [
    "### Pattern players"
   ]
  },
  {
   "cell_type": "code",
   "execution_count": null,
   "id": "aea708db-ff47-40ce-8d70-8dc9fa796622",
   "metadata": {
    "editable": true,
    "slideshow": {
     "slide_type": ""
    },
    "tags": []
   },
   "outputs": [],
   "source": [
    "# ok, let's play it\n",
    "def on_boot(event):\n",
    "    server.add_synthdefs(supriya.default, delay, reverb)\n",
    "    server.sync()\n",
    "\n",
    "\n",
    "server = Server()\n",
    "server.register_lifecycle_callback(\"booted\", on_boot)\n",
    "server.boot()\n",
    "clock = Clock()"
   ]
  },
  {
   "cell_type": "code",
   "execution_count": null,
   "id": "f2ba48a9-c170-4db9-9ebe-a9338032f564",
   "metadata": {
    "editable": true,
    "slideshow": {
     "slide_type": ""
    },
    "tags": []
   },
   "outputs": [],
   "source": [
    "(pattern_player := final_pattern.play(context=server, clock=clock))"
   ]
  },
  {
   "cell_type": "code",
   "execution_count": null,
   "id": "9abb85f6-2d6f-4672-9751-111b47036e53",
   "metadata": {
    "editable": true,
    "slideshow": {
     "slide_type": "subslide"
    },
    "tags": []
   },
   "outputs": [],
   "source": [
    "print(server.query_tree())"
   ]
  },
  {
   "cell_type": "code",
   "execution_count": null,
   "id": "1a6a3bf2-810b-4710-a1fe-f457a92db895",
   "metadata": {
    "editable": true,
    "slideshow": {
     "slide_type": "subslide"
    },
    "tags": []
   },
   "outputs": [],
   "source": [
    "pattern_player.stop()"
   ]
  },
  {
   "cell_type": "code",
   "execution_count": null,
   "id": "866475c8-a51f-4945-8a8d-6dd7bf944ff6",
   "metadata": {
    "editable": true,
    "slideshow": {
     "slide_type": ""
    },
    "tags": []
   },
   "outputs": [],
   "source": [
    "server.quit()"
   ]
  },
  {
   "cell_type": "markdown",
   "id": "95d235cb-6f79-4a66-b957-fe6db90faa2e",
   "metadata": {
    "editable": true,
    "slideshow": {
     "slide_type": "slide"
    },
    "tags": []
   },
   "source": [
    "## Cleanliness"
   ]
  },
  {
   "cell_type": "markdown",
   "id": "e302f5ee-311c-4364-907f-fd52cef666d0",
   "metadata": {
    "editable": true,
    "slideshow": {
     "slide_type": ""
    },
    "tags": []
   },
   "source": [
    "- ci/cd\n",
    "- docs\n",
    "- testing\n",
    "- typing"
   ]
  },
  {
   "cell_type": "markdown",
   "id": "df3f2cbc-ca74-4e16-91db-f376a985ddb2",
   "metadata": {
    "editable": true,
    "slideshow": {
     "slide_type": "slide"
    },
    "tags": []
   },
   "source": [
    "## Future work?"
   ]
  },
  {
   "cell_type": "markdown",
   "id": "13afb1d3-5205-4763-83fd-22ed53afc089",
   "metadata": {
    "editable": true,
    "slideshow": {
     "slide_type": ""
    },
    "tags": []
   },
   "source": [
    "- More docs\n",
    "- More examples\n",
    "- DAW affordances\n",
    "    - multi-context mixers\n",
    "    - tracks & subtracks\n",
    "    - send & receives\n",
    "    - modulation\n",
    "    - transport"
   ]
  },
  {
   "cell_type": "markdown",
   "id": "57e2d054-692f-4488-8296-c2000ea59489",
   "metadata": {
    "editable": true,
    "slideshow": {
     "slide_type": "slide"
    },
    "tags": []
   },
   "source": [
    "## Ciao ciao! 🙇🏼‍♀️🏳️‍⚧️💓"
   ]
  },
  {
   "cell_type": "markdown",
   "id": "3f507b15-07fd-4e94-800c-f1462cc3d10f",
   "metadata": {
    "editable": true,
    "slideshow": {
     "slide_type": ""
    },
    "tags": []
   },
   "source": [
    "Questions?\n",
    "\n",
    "Thanks, darlings! <br/>\n",
    "xoxo, joséphine\n",
    "\n",
    "https://josephine-wolf-oberholtzer.com/ <br/>\n",
    "https://github.com/supriya-project/supriya/"
   ]
  },
  {
   "cell_type": "markdown",
   "id": "e952d123-47b7-4874-a1f5-5506f6338cea",
   "metadata": {
    "editable": true,
    "slideshow": {
     "slide_type": "subslide"
    },
    "tags": []
   },
   "source": [
    "<div style=\"display: flex; flex-direction: row; justify-content: space-around;\">\n",
    "  <div style=\"text-align: center;\">\n",
    "    <img src=\"qr-bio.png\" height=\"250\" width=\"250\"/><br />\n",
    "    BIO\n",
    "  </div>\n",
    "  <div><img src=\"apsara.jpg\" width=\"250\"/></div>\n",
    "  <div style=\"text-align: center;\">\n",
    "    <img src=\"qr-github.png\" height=\"250\" width=\"250\"/><br />\n",
    "    GITHUB\n",
    "  </div>\n",
    "</div>"
   ]
  }
 ],
 "metadata": {
  "kernelspec": {
   "display_name": "Python 3 (ipykernel)",
   "language": "python",
   "name": "python3"
  },
  "language_info": {
   "codemirror_mode": {
    "name": "ipython",
    "version": 3
   },
   "file_extension": ".py",
   "mimetype": "text/x-python",
   "name": "python",
   "nbconvert_exporter": "python",
   "pygments_lexer": "ipython3",
   "version": "3.13.5"
  }
 },
 "nbformat": 4,
 "nbformat_minor": 5
}
